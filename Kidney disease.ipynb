{
 "cells": [
  {
   "cell_type": "code",
   "execution_count": 1,
   "id": "4aaaadf4",
   "metadata": {},
   "outputs": [],
   "source": [
    "import time\n",
    "\n",
    "# starting time\n",
    "start = time.time()\n",
    "import numpy as np\n",
    "import pandas as pd\n",
    "import matplotlib.pyplot as plt\n",
    "import glob\n",
    "import cv2\n",
    "from keras.models import Model,Sequential\n",
    "from keras.layers import Input, Dropout, Flatten, Conv2D, MaxPooling2D, Dense, Activation\n",
    "from tensorflow.keras.layers import BatchNormalization\n",
    "import os\n",
    "from keras.preprocessing.image import ImageDataGenerator\n",
    "import seaborn as sns"
   ]
  },
  {
   "cell_type": "code",
   "execution_count": 2,
   "id": "53aed351",
   "metadata": {},
   "outputs": [
    {
     "name": "stdout",
     "output_type": "stream",
     "text": [
      "['test', 'train']\n"
     ]
    }
   ],
   "source": [
    "print(os.listdir(\"C:/kidney disease/\"))"
   ]
  },
  {
   "cell_type": "code",
   "execution_count": 3,
   "id": "1a6c273e",
   "metadata": {},
   "outputs": [],
   "source": [
    "size=224\n",
    "\n",
    "train_images=[]\n",
    "train_labels=[]\n",
    "for directory_path in glob.glob(\"C:/kidney disease/train/*\"):\n",
    "    label=directory_path.split(\"\\\\\")[-1]\n",
    "   # print(label)\n",
    "    for img_path in glob.glob(os.path.join(directory_path,\"*.JPG\")):\n",
    "        #print(img_path)\n",
    "        img=cv2.imread(img_path,cv2.IMREAD_COLOR)\n",
    "        img=cv2.resize(img,(size,size))\n",
    "        img=cv2.cvtColor(img,cv2.COLOR_RGB2BGR)\n",
    "        train_images.append(img)\n",
    "        train_labels.append(label)   \n",
    "train_images=np.array(train_images)\n",
    "train_labels=np.array(train_labels)"
   ]
  },
  {
   "cell_type": "code",
   "execution_count": 4,
   "id": "1ead8b50",
   "metadata": {},
   "outputs": [],
   "source": [
    "test_images=[]\n",
    "test_labels=[]\n",
    "for directory_path in glob.glob(\"C:/kidney disease/test/*\"):\n",
    "    label=directory_path.split(\"\\\\\")[-1]\n",
    "   # print(label)\n",
    "    for img_path in glob.glob(os.path.join(directory_path,\"*.JPG\")):\n",
    "        #print(img_path)\n",
    "        img=cv2.imread(img_path,cv2.IMREAD_COLOR)\n",
    "        img=cv2.resize(img,(size,size))\n",
    "        img=cv2.cvtColor(img,cv2.COLOR_RGB2BGR)\n",
    "        test_images.append(img)\n",
    "        test_labels.append(label)\n",
    "test_images=np.array(test_images)\n",
    "test_labels=np.array(test_labels)"
   ]
  },
  {
   "cell_type": "code",
   "execution_count": 5,
   "id": "0eb94b25",
   "metadata": {},
   "outputs": [],
   "source": [
    "from sklearn import preprocessing\n",
    "le=preprocessing.LabelEncoder()\n",
    "le.fit(test_labels)\n",
    "test_labels_encoded=le.transform(test_labels)\n",
    "le.fit(train_labels)\n",
    "train_labels_encoded=le.transform(train_labels)"
   ]
  },
  {
   "cell_type": "code",
   "execution_count": 6,
   "id": "10103576",
   "metadata": {},
   "outputs": [],
   "source": [
    "X_train,y_train,X_test,y_test = train_images,train_labels_encoded,test_images,test_labels_encoded\n",
    "\n"
   ]
  },
  {
   "cell_type": "code",
   "execution_count": 7,
   "id": "ba5cf2a5",
   "metadata": {},
   "outputs": [],
   "source": [
    "# Define per-fold score containers\n",
    "acc_per_fold = []\n",
    "loss_per_fold = []"
   ]
  },
  {
   "cell_type": "code",
   "execution_count": 8,
   "id": "efbfbfd0",
   "metadata": {},
   "outputs": [],
   "source": [
    "# Merge inputs and targets\n",
    "inputs = np.concatenate((X_train, X_test), axis=0)\n",
    "targets = np.concatenate((y_train, y_test), axis=0)"
   ]
  },
  {
   "cell_type": "code",
   "execution_count": 9,
   "id": "a60ae017",
   "metadata": {},
   "outputs": [
    {
     "data": {
      "text/plain": [
       "<Figure size 600x600 with 0 Axes>"
      ]
     },
     "execution_count": 9,
     "metadata": {},
     "output_type": "execute_result"
    },
    {
     "data": {
      "text/plain": [
       "<Figure size 600x600 with 0 Axes>"
      ]
     },
     "metadata": {},
     "output_type": "display_data"
    }
   ],
   "source": [
    "plt.figure(figsize=(6,6))"
   ]
  },
  {
   "cell_type": "code",
   "execution_count": 10,
   "id": "f477d737",
   "metadata": {},
   "outputs": [],
   "source": [
    "from scipy import interp\n",
    "from sklearn.ensemble import RandomForestClassifier\n",
    "from sklearn.metrics import roc_curve,auc\n",
    "from sklearn.model_selection import StratifiedKFold\n",
    "import matplotlib.patches as patches\n",
    "\n",
    "# import libraries for cross validation\n",
    "import matplotlib.pyplot as plt\n",
    "import numpy as np\n",
    "from scipy import interp\n",
    "from sklearn.model_selection import KFold, cross_validate\n",
    "from sklearn.metrics import roc_curve, auc\n",
    "\n",
    "from keras.models import Sequential\n",
    "from keras.layers import Dense\n",
    "from sklearn.model_selection import KFold\n",
    "import numpy as np"
   ]
  },
  {
   "cell_type": "code",
   "execution_count": 11,
   "id": "23d10e76",
   "metadata": {},
   "outputs": [],
   "source": [
    "  model=Sequential() \n",
    "  model.add(Conv2D(input_shape=(224,224,3),filters=64,kernel_size=(3,3),padding=\"same\",activation=\"relu\"))\n",
    "  model.add(MaxPooling2D(pool_size=(2,2),strides=(2,2)))\n",
    "\n",
    "  model.add(Conv2D(filters=64,kernel_size=(1,1),padding=\"same\",activation=\"relu\"))\n",
    "  model.add(Conv2D(filters=64,kernel_size=(3,3),padding=\"same\",activation=\"relu\"))\n",
    "  model.add(MaxPooling2D(pool_size=(2,2),strides=(2,2)))\n",
    "\n",
    "  model.add(Conv2D(filters=128,kernel_size=(1,1),padding=\"same\",activation=\"relu\"))\n",
    "  model.add(Conv2D(filters=128,kernel_size=(3,3),padding=\"same\",activation=\"relu\"))\n",
    "  model.add(MaxPooling2D(pool_size=(2,2),strides=(2,2)))\n",
    "\n",
    "  model.add(Conv2D(filters=256,kernel_size=(1,1),padding=\"same\",activation=\"relu\"))\n",
    "  model.add(Conv2D(filters=256,kernel_size=(3,3),padding=\"same\",activation=\"relu\"))\n",
    "  \n",
    "  model.add(MaxPooling2D(pool_size=(2,2),strides=(2,2)))\n",
    "\n",
    "\n",
    "  model.add(Flatten())\n",
    "  x=model.output\n",
    "  x=Dense(224,activation=\"relu\")(x)\n",
    "  x = Dropout(0.2)(x)\n",
    "  prd_layer=Dense(4,activation=\"softmax\")(x)\n",
    "\n",
    "  hyb_model=Model(inputs=model.input,outputs=prd_layer)\n",
    "  hyb_model.compile(loss='sparse_categorical_crossentropy', optimizer='adam', metrics=['accuracy'])"
   ]
  },
  {
   "cell_type": "code",
   "execution_count": 12,
   "id": "f9619f25",
   "metadata": {},
   "outputs": [
    {
     "name": "stdout",
     "output_type": "stream",
     "text": [
      "Model: \"model\"\n",
      "_________________________________________________________________\n",
      " Layer (type)                Output Shape              Param #   \n",
      "=================================================================\n",
      " conv2d_input (InputLayer)   [(None, 224, 224, 3)]     0         \n",
      "                                                                 \n",
      " conv2d (Conv2D)             (None, 224, 224, 64)      1792      \n",
      "                                                                 \n",
      " max_pooling2d (MaxPooling2D  (None, 112, 112, 64)     0         \n",
      " )                                                               \n",
      "                                                                 \n",
      " conv2d_1 (Conv2D)           (None, 112, 112, 64)      4160      \n",
      "                                                                 \n",
      " conv2d_2 (Conv2D)           (None, 112, 112, 64)      36928     \n",
      "                                                                 \n",
      " max_pooling2d_1 (MaxPooling  (None, 56, 56, 64)       0         \n",
      " 2D)                                                             \n",
      "                                                                 \n",
      " conv2d_3 (Conv2D)           (None, 56, 56, 128)       8320      \n",
      "                                                                 \n",
      " conv2d_4 (Conv2D)           (None, 56, 56, 128)       147584    \n",
      "                                                                 \n",
      " max_pooling2d_2 (MaxPooling  (None, 28, 28, 128)      0         \n",
      " 2D)                                                             \n",
      "                                                                 \n",
      " conv2d_5 (Conv2D)           (None, 28, 28, 256)       33024     \n",
      "                                                                 \n",
      " conv2d_6 (Conv2D)           (None, 28, 28, 256)       590080    \n",
      "                                                                 \n",
      " max_pooling2d_3 (MaxPooling  (None, 14, 14, 256)      0         \n",
      " 2D)                                                             \n",
      "                                                                 \n",
      " flatten (Flatten)           (None, 50176)             0         \n",
      "                                                                 \n",
      " dense (Dense)               (None, 224)               11239648  \n",
      "                                                                 \n",
      " dropout (Dropout)           (None, 224)               0         \n",
      "                                                                 \n",
      " dense_1 (Dense)             (None, 4)                 900       \n",
      "                                                                 \n",
      "=================================================================\n",
      "Total params: 12,062,436\n",
      "Trainable params: 12,062,436\n",
      "Non-trainable params: 0\n",
      "_________________________________________________________________\n"
     ]
    }
   ],
   "source": [
    "hyb_model.summary()"
   ]
  },
  {
   "cell_type": "code",
   "execution_count": null,
   "id": "854126c6",
   "metadata": {},
   "outputs": [
    {
     "name": "stdout",
     "output_type": "stream",
     "text": [
      "------------------------------------------------------------------------\n",
      "Training for fold 1 ...\n",
      "Epoch 1/20\n",
      "200/200 [==============================] - 1745s 9s/step - loss: 1.5124 - accuracy: 0.8782 - val_loss: 0.0599 - val_accuracy: 0.9827\n",
      "Epoch 2/20\n",
      "200/200 [==============================] - 1591s 8s/step - loss: 0.0348 - accuracy: 0.9879 - val_loss: 0.0190 - val_accuracy: 0.9956\n",
      "Epoch 3/20\n",
      "200/200 [==============================] - 1553s 8s/step - loss: 0.0144 - accuracy: 0.9947 - val_loss: 0.0020 - val_accuracy: 1.0000\n",
      "Epoch 4/20\n",
      "200/200 [==============================] - 1580s 8s/step - loss: 0.0182 - accuracy: 0.9937 - val_loss: 6.1384e-05 - val_accuracy: 1.0000\n",
      "Epoch 5/20\n",
      "200/200 [==============================] - 1487s 7s/step - loss: 0.0138 - accuracy: 0.9976 - val_loss: 0.0013 - val_accuracy: 0.9996\n",
      "Epoch 6/20\n",
      "200/200 [==============================] - 1431s 7s/step - loss: 0.0034 - accuracy: 0.9991 - val_loss: 0.0013 - val_accuracy: 0.9996\n",
      "Epoch 7/20\n",
      "200/200 [==============================] - 1438s 7s/step - loss: 0.0077 - accuracy: 0.9973 - val_loss: 0.0020 - val_accuracy: 0.9992\n",
      "Epoch 8/20\n",
      "200/200 [==============================] - 1452s 7s/step - loss: 0.0075 - accuracy: 0.9981 - val_loss: 0.0074 - val_accuracy: 0.9984\n",
      "Epoch 9/20\n",
      "200/200 [==============================] - 1464s 7s/step - loss: 0.0169 - accuracy: 0.9954 - val_loss: 0.0650 - val_accuracy: 0.9847\n",
      "Epoch 10/20\n",
      "200/200 [==============================] - 1432s 7s/step - loss: 0.0061 - accuracy: 0.9983 - val_loss: 2.6724e-04 - val_accuracy: 1.0000\n",
      "Epoch 11/20\n",
      "200/200 [==============================] - 1432s 7s/step - loss: 0.0045 - accuracy: 0.9986 - val_loss: 0.0170 - val_accuracy: 0.9964\n",
      "Epoch 12/20\n",
      "200/200 [==============================] - 5750s 29s/step - loss: 0.0157 - accuracy: 0.9966 - val_loss: 0.0156 - val_accuracy: 0.9956\n",
      "Epoch 13/20\n",
      "200/200 [==============================] - 1441s 7s/step - loss: 0.0141 - accuracy: 0.9962 - val_loss: 3.9806e-04 - val_accuracy: 1.0000\n",
      "Epoch 14/20\n",
      "200/200 [==============================] - 1435s 7s/step - loss: 0.0042 - accuracy: 0.9986 - val_loss: 0.0011 - val_accuracy: 0.9992\n",
      "Epoch 15/20\n",
      "200/200 [==============================] - 1439s 7s/step - loss: 1.0008e-04 - accuracy: 1.0000 - val_loss: 7.3595e-06 - val_accuracy: 1.0000\n",
      "Epoch 16/20\n",
      "200/200 [==============================] - 1438s 7s/step - loss: 4.2983e-04 - accuracy: 0.9999 - val_loss: 1.2758e-05 - val_accuracy: 1.0000\n",
      "Epoch 17/20\n",
      "200/200 [==============================] - 1444s 7s/step - loss: 2.3880e-05 - accuracy: 1.0000 - val_loss: 6.7550e-07 - val_accuracy: 1.0000\n",
      "Epoch 18/20\n",
      "200/200 [==============================] - 1441s 7s/step - loss: 1.7984e-05 - accuracy: 1.0000 - val_loss: 2.5854e-07 - val_accuracy: 1.0000\n",
      "Epoch 19/20\n",
      "200/200 [==============================] - 1436s 7s/step - loss: 0.0049 - accuracy: 0.9994 - val_loss: 0.0028 - val_accuracy: 0.9996\n",
      "Epoch 20/20\n",
      "200/200 [==============================] - 1608s 8s/step - loss: 0.0400 - accuracy: 0.9918 - val_loss: 0.0042 - val_accuracy: 0.9984\n",
      "Score for fold 1: loss of 0.004231548868119717; accuracy of 99.83935952186584%\n"
     ]
    },
    {
     "data": {
      "image/png": "[encoded data removed]",
      "text/plain": [
       "<Figure size 640x480 with 1 Axes>"
      ]
     },
     "metadata": {},
     "output_type": "display_data"
    },
    {
     "data": {
      "image/png": "[encoded data removed]",
      "text/plain": [
       "<Figure size 640x480 with 1 Axes>"
      ]
     },
     "metadata": {},
     "output_type": "display_data"
    },
    {
     "name": "stdout",
     "output_type": "stream",
     "text": [
      "78/78 [==============================] - 108s 1s/step\n",
      "[[771   1   0   0]\n",
      " [  0 994   0   0]\n",
      " [  0   2 269   0]\n",
      " [  0   1   0 452]]\n",
      "              precision    recall  f1-score   support\n",
      "\n",
      "           0       1.00      1.00      1.00       771\n",
      "           1       1.00      1.00      1.00       998\n",
      "           2       0.99      1.00      1.00       269\n",
      "           3       1.00      1.00      1.00       452\n",
      "\n",
      "    accuracy                           1.00      2490\n",
      "   macro avg       1.00      1.00      1.00      2490\n",
      "weighted avg       1.00      1.00      1.00      2490\n",
      "\n",
      "------------------------------------------------------------------------\n",
      "Training for fold 2 ...\n",
      "Epoch 1/20\n",
      "200/200 [==============================] - 1695s 8s/step - loss: 0.0255 - accuracy: 0.9920 - val_loss: 1.2754e-04 - val_accuracy: 1.0000\n",
      "Epoch 2/20\n",
      "200/200 [==============================] - 1452s 7s/step - loss: 1.3270e-04 - accuracy: 1.0000 - val_loss: 5.5196e-07 - val_accuracy: 1.0000\n",
      "Epoch 3/20\n",
      "200/200 [==============================] - 1448s 7s/step - loss: 7.9767e-04 - accuracy: 0.9997 - val_loss: 3.9126e-05 - val_accuracy: 1.0000\n",
      "Epoch 4/20\n",
      "200/200 [==============================] - 1461s 7s/step - loss: 0.0177 - accuracy: 0.9951 - val_loss: 1.6451e-04 - val_accuracy: 1.0000\n",
      "Epoch 5/20\n",
      "200/200 [==============================] - 1474s 7s/step - loss: 0.0091 - accuracy: 0.9983 - val_loss: 4.0310e-06 - val_accuracy: 1.0000\n",
      "Epoch 6/20\n",
      "200/200 [==============================] - 1498s 7s/step - loss: 5.2765e-04 - accuracy: 0.9999 - val_loss: 1.6909e-05 - val_accuracy: 1.0000\n",
      "Epoch 7/20\n",
      "200/200 [==============================] - 1497s 7s/step - loss: 5.2506e-05 - accuracy: 1.0000 - val_loss: 7.6816e-07 - val_accuracy: 1.0000\n",
      "Epoch 8/20\n",
      "173/200 [========================>.....] - ETA: 3:10 - loss: 1.6495e-04 - accuracy: 1.0000"
     ]
    }
   ],
   "source": [
    "# Define the K-fold Cross Validator\n",
    "from sklearn.model_selection import KFold\n",
    "kfold = KFold(n_splits=5, shuffle=True)\n",
    "\n",
    "fold_no = 1\n",
    "for train, test in kfold.split(inputs, targets):\n",
    "  # Generate a print\n",
    "  print('------------------------------------------------------------------------')\n",
    "  print(f'Training for fold {fold_no} ...')\n",
    "      \n",
    "  history=hyb_model.fit(inputs[train],targets[train],batch_size=50,epochs=20,verbose=1,validation_data=(inputs[test],targets[test]))\n",
    "  scores=hyb_model.evaluate(inputs[test],targets[test],verbose=0)\n",
    "  print(f'Score for fold {fold_no}: {hyb_model.metrics_names[0]} of {scores[0]}; {hyb_model.metrics_names[1]} of {scores[1]*100}%')\n",
    "  acc_per_fold.append(scores[1] * 100)\n",
    "  loss_per_fold.append(scores[0])\n",
    "\n",
    "\n",
    "\n",
    "  #plot accuracy and loss\n",
    "  import matplotlib.pyplot as plt\n",
    "\n",
    "  plt.plot(history.history['accuracy'])\n",
    "  plt.plot(history.history['val_accuracy'])\n",
    "  plt.title('model accuracy')\n",
    "  plt.ylabel('accuracy')\n",
    "  plt.xlabel('epoch')\n",
    "  plt.legend(['train', 'test'], loc='lower right')\n",
    "  plt.show()\n",
    "\n",
    "  plt.plot(history.history['loss'])\n",
    "  plt.plot(history.history['val_loss'])\n",
    "  plt.title('model loss')\n",
    "  plt.ylabel('loss')\n",
    "  plt.xlabel('epoch')\n",
    "  plt.legend(['train', 'test'], loc='upper right')\n",
    "  plt.show()\n",
    "    \n",
    "  y_pred = hyb_model.predict(inputs[test])\n",
    "  y_pred = np.argmax(y_pred, axis=1)\n",
    "  list(y_pred)\n",
    "  from sklearn.metrics import confusion_matrix\n",
    "  cm = confusion_matrix(targets[test], y_pred)\n",
    "  print(cm)\n",
    "  sns.heatmap(cm, cmap=\"plasma\", annot=True, fmt='d')  \n",
    "    \n",
    "  from sklearn.metrics import classification_report\n",
    "\n",
    "  print(classification_report(y_pred, targets[test]))\n",
    "\n",
    "  # Increase fold number\n",
    "  fold_no = fold_no + 1 "
   ]
  },
  {
   "cell_type": "code",
   "execution_count": null,
   "id": "c5aebb0a",
   "metadata": {},
   "outputs": [],
   "source": [
    "# == Provide average scores ==\n",
    "print('------------------------------------------------------------------------')\n",
    "print('Score per fold')\n",
    "for i in range(0, len(acc_per_fold)):\n",
    "  print('------------------------------------------------------------------------')\n",
    "  print(f'> Fold {i+1} - Loss: {loss_per_fold[i]} - Accuracy: {acc_per_fold[i]}%')\n",
    "print('------------------------------------------------------------------------')\n",
    "print('Average scores for all folds:')\n",
    "print(f'> Accuracy: {np.mean(acc_per_fold)} (+- {np.std(acc_per_fold)})')\n",
    "print(f'> Loss: {np.mean(loss_per_fold)}')\n",
    "print('------------------------------------------------------------------------')"
   ]
  }
 ],
 "metadata": {
  "kernelspec": {
   "display_name": "Python 3 (ipykernel)",
   "language": "python",
   "name": "python3"
  },
  "language_info": {
   "codemirror_mode": {
    "name": "ipython",
    "version": 3
   },
   "file_extension": ".py",
   "mimetype": "text/x-python",
   "name": "python",
   "nbconvert_exporter": "python",
   "pygments_lexer": "ipython3",
   "version": "3.9.13"
  }
 },
 "nbformat": 4,
 "nbformat_minor": 5
}
