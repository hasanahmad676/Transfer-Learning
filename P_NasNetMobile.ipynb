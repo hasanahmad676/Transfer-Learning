{
 "cells": [
  {
   "cell_type": "code",
   "execution_count": 1,
   "metadata": {},
   "outputs": [],
   "source": [
    "import time\n",
    "start=time.time()\n",
    "import numpy as np\n",
    "import pandas as pd\n",
    "import matplotlib.pyplot as plt\n",
    "import glob\n",
    "import cv2\n",
    "from keras.models import Model,Sequential\n",
    "from keras.layers import Input, Dropout, Flatten, Conv2D, MaxPooling2D, Dense, Activation\n",
    "from keras.layers.normalization import BatchNormalization\n",
    "import os\n",
    "import seaborn as sns"
   ]
  },
  {
   "cell_type": "code",
   "execution_count": 2,
   "metadata": {},
   "outputs": [
    {
     "name": "stdout",
     "output_type": "stream",
     "text": [
      "['test', 'train']\n"
     ]
    }
   ],
   "source": [
    "print(os.listdir(\"C:/covid1_data/\"))"
   ]
  },
  {
   "cell_type": "code",
   "execution_count": 3,
   "metadata": {},
   "outputs": [],
   "source": [
    "size=224\n",
    "\n",
    "train_images=[]\n",
    "train_labels=[]\n",
    "for directory_path in glob.glob(\"C:/covid1_data/train/*\"):\n",
    "    label=directory_path.split(\"\\\\\")[-1]\n",
    "   # print(label)\n",
    "    for img_path in glob.glob(os.path.join(directory_path,\"*.JPG\")):\n",
    "        #print(img_path)\n",
    "        img=cv2.imread(img_path,cv2.IMREAD_COLOR)\n",
    "        img=cv2.resize(img,(size,size))\n",
    "        img=cv2.cvtColor(img,cv2.COLOR_RGB2BGR)\n",
    "        train_images.append(img)\n",
    "        train_labels.append(label)   \n",
    "train_images=np.array(train_images)\n",
    "train_labels=np.array(train_labels)"
   ]
  },
  {
   "cell_type": "code",
   "execution_count": 4,
   "metadata": {},
   "outputs": [],
   "source": [
    "test_images=[]\n",
    "test_labels=[]\n",
    "for directory_path in glob.glob(\"C:/covid1_data/test/*\"):\n",
    "    label=directory_path.split(\"\\\\\")[-1]\n",
    "   # print(label)\n",
    "    for img_path in glob.glob(os.path.join(directory_path,\"*.JPG\")):\n",
    "        #print(img_path)\n",
    "        img=cv2.imread(img_path,cv2.IMREAD_COLOR)\n",
    "        img=cv2.resize(img,(size,size))\n",
    "        img=cv2.cvtColor(img,cv2.COLOR_RGB2BGR)\n",
    "        test_images.append(img)\n",
    "        test_labels.append(label)\n",
    "test_images=np.array(test_images)\n",
    "test_labels=np.array(test_labels)"
   ]
  },
  {
   "cell_type": "code",
   "execution_count": 5,
   "metadata": {},
   "outputs": [],
   "source": [
    "from sklearn import preprocessing\n",
    "le=preprocessing.LabelEncoder()\n",
    "le.fit(test_labels)\n",
    "test_labels_encoded=le.transform(test_labels)\n",
    "le.fit(train_labels)\n",
    "train_labels_encoded=le.transform(train_labels)"
   ]
  },
  {
   "cell_type": "code",
   "execution_count": 6,
   "metadata": {},
   "outputs": [],
   "source": [
    "X_train,y_train,X_test,y_test = train_images,train_labels_encoded,test_images,test_labels_encoded\n",
    "\n",
    "X_train,X_test=X_train/255.0,X_test/255.0"
   ]
  },
  {
   "cell_type": "code",
   "execution_count": 7,
   "metadata": {},
   "outputs": [],
   "source": [
    "from tensorflow.keras.applications.nasnet import NASNetMobile\n",
    "base_model =NASNetMobile(input_shape = (224, 224, 3), include_top = False, weights = 'imagenet')"
   ]
  },
  {
   "cell_type": "code",
   "execution_count": 8,
   "metadata": {},
   "outputs": [],
   "source": [
    "for layer in base_model.layers:\n",
    "    layer.trainable = False"
   ]
  },
  {
   "cell_type": "code",
   "execution_count": 9,
   "metadata": {},
   "outputs": [],
   "source": [
    "x = Flatten()(base_model.output)\n",
    "x = Dense(1024, activation='relu')(x)\n",
    "x = Dropout(0.2)(x)\n",
    "x = Dense(1, activation='sigmoid')(x)\n",
    "\n",
    "model = Model(inputs=base_model.input,outputs= x)"
   ]
  },
  {
   "cell_type": "code",
   "execution_count": 10,
   "metadata": {},
   "outputs": [],
   "source": [
    "from keras import backend as K\n",
    "\n",
    "def recall_m(y_true, y_pred):\n",
    "    true_positives = K.sum(K.round(K.clip(y_true * y_pred, 0, 1)))\n",
    "    possible_positives = K.sum(K.round(K.clip(y_true, 0, 1)))\n",
    "    recall = true_positives / (possible_positives + K.epsilon())\n",
    "    return recall\n",
    "\n",
    "def precision_m(y_true, y_pred):\n",
    "    true_positives = K.sum(K.round(K.clip(y_true * y_pred, 0, 1)))\n",
    "    predicted_positives = K.sum(K.round(K.clip(y_pred, 0, 1)))\n",
    "    precision = true_positives / (predicted_positives + K.epsilon())\n",
    "    return precision\n",
    "\n",
    "def f1_m(y_true, y_pred):\n",
    "    precision = precision_m(y_true, y_pred)\n",
    "    recall = recall_m(y_true, y_pred)\n",
    "    return 2*((precision*recall)/(precision+recall+K.epsilon()))\n",
    "\n",
    "# compile the model\n",
    "model.compile(optimizer='adam', loss='binary_crossentropy', metrics=['accuracy',f1_m,precision_m, recall_m])"
   ]
  },
  {
   "cell_type": "code",
   "execution_count": 11,
   "metadata": {},
   "outputs": [
    {
     "name": "stdout",
     "output_type": "stream",
     "text": [
      "Epoch 1/50\n",
      "54/54 [==============================] - 212s 3s/step - loss: 7.7112 - accuracy: 0.8572 - f1_m: 0.8824 - precision_m: 0.9093 - recall_m: 0.8917 - val_loss: 0.1768 - val_accuracy: 0.9908 - val_f1_m: 0.7817 - val_precision_m: 0.7802 - val_recall_m: 0.7835\n",
      "Epoch 2/50\n",
      "54/54 [==============================] - 171s 3s/step - loss: 0.1119 - accuracy: 0.9931 - f1_m: 0.9948 - precision_m: 0.9960 - recall_m: 0.9941 - val_loss: 0.1768 - val_accuracy: 0.9931 - val_f1_m: 0.7806 - val_precision_m: 0.7802 - val_recall_m: 0.7812\n",
      "Epoch 3/50\n",
      "54/54 [==============================] - 166s 3s/step - loss: 0.2890 - accuracy: 0.9884 - f1_m: 0.9923 - precision_m: 0.9960 - recall_m: 0.9889 - val_loss: 0.0995 - val_accuracy: 0.9908 - val_f1_m: 0.7817 - val_precision_m: 0.7802 - val_recall_m: 0.7835\n",
      "Epoch 4/50\n",
      "54/54 [==============================] - 168s 3s/step - loss: 0.0061 - accuracy: 0.9992 - f1_m: 0.9995 - precision_m: 0.9991 - recall_m: 0.9999 - val_loss: 0.2242 - val_accuracy: 0.9885 - val_f1_m: 0.7829 - val_precision_m: 0.7802 - val_recall_m: 0.7857\n",
      "Epoch 5/50\n",
      "54/54 [==============================] - 167s 3s/step - loss: 0.0982 - accuracy: 0.9949 - f1_m: 0.9968 - precision_m: 0.9950 - recall_m: 0.9988 - val_loss: 0.2400 - val_accuracy: 0.9861 - val_f1_m: 0.7800 - val_precision_m: 0.7857 - val_recall_m: 0.7746\n",
      "Epoch 6/50\n",
      "54/54 [==============================] - 168s 3s/step - loss: 0.0175 - accuracy: 0.9963 - f1_m: 0.9970 - precision_m: 0.9992 - recall_m: 0.9951 - val_loss: 0.3800 - val_accuracy: 0.9838 - val_f1_m: 0.7829 - val_precision_m: 0.7802 - val_recall_m: 0.7857\n",
      "Epoch 7/50\n",
      "54/54 [==============================] - 168s 3s/step - loss: 0.0118 - accuracy: 0.9992 - f1_m: 0.9995 - precision_m: 0.9992 - recall_m: 0.9998 - val_loss: 0.6765 - val_accuracy: 0.9769 - val_f1_m: 0.7802 - val_precision_m: 0.7755 - val_recall_m: 0.7857\n",
      "Epoch 8/50\n",
      "54/54 [==============================] - 167s 3s/step - loss: 0.0551 - accuracy: 0.9960 - f1_m: 0.9973 - precision_m: 0.9957 - recall_m: 0.9990 - val_loss: 0.1062 - val_accuracy: 0.9885 - val_f1_m: 0.7846 - val_precision_m: 0.7857 - val_recall_m: 0.7835\n",
      "Epoch 9/50\n",
      "54/54 [==============================] - 169s 3s/step - loss: 0.0042 - accuracy: 0.9994 - f1_m: 0.9994 - precision_m: 0.9989 - recall_m: 1.0000 - val_loss: 0.0727 - val_accuracy: 0.9977 - val_f1_m: 0.7846 - val_precision_m: 0.7857 - val_recall_m: 0.7835\n",
      "Epoch 10/50\n",
      "54/54 [==============================] - 168s 3s/step - loss: 0.0046 - accuracy: 0.9995 - f1_m: 0.9997 - precision_m: 0.9999 - recall_m: 0.9995 - val_loss: 0.0926 - val_accuracy: 0.9931 - val_f1_m: 0.7846 - val_precision_m: 0.7857 - val_recall_m: 0.7835\n",
      "Epoch 11/50\n",
      "54/54 [==============================] - 168s 3s/step - loss: 0.0036 - accuracy: 0.9987 - f1_m: 0.9990 - precision_m: 0.9996 - recall_m: 0.9986 - val_loss: 0.2349 - val_accuracy: 0.9815 - val_f1_m: 0.7817 - val_precision_m: 0.7802 - val_recall_m: 0.7835\n",
      "Epoch 12/50\n",
      "54/54 [==============================] - 169s 3s/step - loss: 0.0014 - accuracy: 0.9989 - f1_m: 0.9991 - precision_m: 0.9983 - recall_m: 1.0000 - val_loss: 0.0810 - val_accuracy: 0.9954 - val_f1_m: 0.7846 - val_precision_m: 0.7857 - val_recall_m: 0.7835\n",
      "Epoch 13/50\n",
      "54/54 [==============================] - 171s 3s/step - loss: 0.0032 - accuracy: 0.9998 - f1_m: 0.9999 - precision_m: 0.9999 - recall_m: 0.9998 - val_loss: 0.4114 - val_accuracy: 0.9861 - val_f1_m: 0.7829 - val_precision_m: 0.7802 - val_recall_m: 0.7857\n",
      "Epoch 14/50\n",
      "54/54 [==============================] - 171s 3s/step - loss: 5.5506e-07 - accuracy: 1.0000 - f1_m: 1.0000 - precision_m: 1.0000 - recall_m: 1.0000 - val_loss: 0.1446 - val_accuracy: 0.9931 - val_f1_m: 0.7857 - val_precision_m: 0.7857 - val_recall_m: 0.7857\n",
      "Epoch 15/50\n",
      "54/54 [==============================] - 169s 3s/step - loss: 1.9093e-04 - accuracy: 1.0000 - f1_m: 1.0000 - precision_m: 1.0000 - recall_m: 1.0000 - val_loss: 0.2131 - val_accuracy: 0.9908 - val_f1_m: 0.7857 - val_precision_m: 0.7857 - val_recall_m: 0.7857\n",
      "Epoch 16/50\n",
      "54/54 [==============================] - 180s 3s/step - loss: 0.0320 - accuracy: 0.9971 - f1_m: 0.9980 - precision_m: 0.9981 - recall_m: 0.9981 - val_loss: 1.3441 - val_accuracy: 0.9400 - val_f1_m: 0.7511 - val_precision_m: 0.7857 - val_recall_m: 0.7200\n",
      "Epoch 17/50\n",
      "54/54 [==============================] - 175s 3s/step - loss: 0.9193 - accuracy: 0.9699 - f1_m: 0.9780 - precision_m: 0.9852 - recall_m: 0.9735 - val_loss: 0.2127 - val_accuracy: 0.9931 - val_f1_m: 0.7829 - val_precision_m: 0.7802 - val_recall_m: 0.7857\n",
      "Epoch 18/50\n",
      "54/54 [==============================] - 171s 3s/step - loss: 0.0205 - accuracy: 0.9985 - f1_m: 0.9990 - precision_m: 0.9994 - recall_m: 0.9987 - val_loss: 0.2651 - val_accuracy: 0.9885 - val_f1_m: 0.7800 - val_precision_m: 0.7857 - val_recall_m: 0.7746\n",
      "Epoch 19/50\n",
      "54/54 [==============================] - 169s 3s/step - loss: 4.2682e-04 - accuracy: 0.9999 - f1_m: 1.0000 - precision_m: 1.0000 - recall_m: 0.9999 - val_loss: 0.4086 - val_accuracy: 0.9885 - val_f1_m: 0.7829 - val_precision_m: 0.7802 - val_recall_m: 0.7857\n",
      "Epoch 20/50\n",
      "54/54 [==============================] - 172s 3s/step - loss: 0.0389 - accuracy: 0.9989 - f1_m: 0.9991 - precision_m: 0.9982 - recall_m: 1.0000 - val_loss: 0.0931 - val_accuracy: 0.9885 - val_f1_m: 0.7817 - val_precision_m: 0.7802 - val_recall_m: 0.7835\n",
      "Epoch 21/50\n",
      "54/54 [==============================] - 169s 3s/step - loss: 1.4056e-09 - accuracy: 1.0000 - f1_m: 1.0000 - precision_m: 1.0000 - recall_m: 1.0000 - val_loss: 0.1027 - val_accuracy: 0.9885 - val_f1_m: 0.7817 - val_precision_m: 0.7802 - val_recall_m: 0.7835\n",
      "Epoch 22/50\n",
      "54/54 [==============================] - 192s 4s/step - loss: 4.2202e-12 - accuracy: 1.0000 - f1_m: 1.0000 - precision_m: 1.0000 - recall_m: 1.0000 - val_loss: 0.1027 - val_accuracy: 0.9885 - val_f1_m: 0.7817 - val_precision_m: 0.7802 - val_recall_m: 0.7835\n",
      "Epoch 23/50\n",
      "54/54 [==============================] - 173s 3s/step - loss: 5.6349e-11 - accuracy: 1.0000 - f1_m: 1.0000 - precision_m: 1.0000 - recall_m: 1.0000 - val_loss: 0.1027 - val_accuracy: 0.9885 - val_f1_m: 0.7817 - val_precision_m: 0.7802 - val_recall_m: 0.7835\n",
      "Epoch 24/50\n",
      "54/54 [==============================] - 172s 3s/step - loss: 5.9757e-11 - accuracy: 1.0000 - f1_m: 1.0000 - precision_m: 1.0000 - recall_m: 1.0000 - val_loss: 0.1027 - val_accuracy: 0.9885 - val_f1_m: 0.7817 - val_precision_m: 0.7802 - val_recall_m: 0.7835\n",
      "Epoch 25/50\n",
      "54/54 [==============================] - 179s 3s/step - loss: 4.0069e-13 - accuracy: 1.0000 - f1_m: 1.0000 - precision_m: 1.0000 - recall_m: 1.0000 - val_loss: 0.1027 - val_accuracy: 0.9885 - val_f1_m: 0.7817 - val_precision_m: 0.7802 - val_recall_m: 0.7835\n",
      "Epoch 26/50\n",
      "54/54 [==============================] - 179s 3s/step - loss: 6.5396e-07 - accuracy: 1.0000 - f1_m: 1.0000 - precision_m: 1.0000 - recall_m: 1.0000 - val_loss: 0.1033 - val_accuracy: 0.9885 - val_f1_m: 0.7817 - val_precision_m: 0.7802 - val_recall_m: 0.7835\n",
      "Epoch 27/50\n",
      "54/54 [==============================] - 171s 3s/step - loss: 1.1934e-10 - accuracy: 1.0000 - f1_m: 1.0000 - precision_m: 1.0000 - recall_m: 1.0000 - val_loss: 0.1033 - val_accuracy: 0.9885 - val_f1_m: 0.7817 - val_precision_m: 0.7802 - val_recall_m: 0.7835\n",
      "Epoch 28/50\n",
      "54/54 [==============================] - 171s 3s/step - loss: 0.0067 - accuracy: 0.9987 - f1_m: 0.9991 - precision_m: 0.9992 - recall_m: 0.9989 - val_loss: 0.2407 - val_accuracy: 0.9885 - val_f1_m: 0.7817 - val_precision_m: 0.7802 - val_recall_m: 0.7835\n",
      "Epoch 29/50\n",
      "54/54 [==============================] - 170s 3s/step - loss: 6.8415e-13 - accuracy: 1.0000 - f1_m: 1.0000 - precision_m: 1.0000 - recall_m: 1.0000 - val_loss: 0.4288 - val_accuracy: 0.9885 - val_f1_m: 0.7829 - val_precision_m: 0.7802 - val_recall_m: 0.7857\n",
      "Epoch 30/50\n",
      "54/54 [==============================] - 170s 3s/step - loss: 5.6984e-11 - accuracy: 1.0000 - f1_m: 1.0000 - precision_m: 1.0000 - recall_m: 1.0000 - val_loss: 0.4296 - val_accuracy: 0.9885 - val_f1_m: 0.7829 - val_precision_m: 0.7802 - val_recall_m: 0.7857\n",
      "Epoch 31/50\n",
      "54/54 [==============================] - 170s 3s/step - loss: 3.7218e-10 - accuracy: 1.0000 - f1_m: 1.0000 - precision_m: 1.0000 - recall_m: 1.0000 - val_loss: 0.4296 - val_accuracy: 0.9885 - val_f1_m: 0.7829 - val_precision_m: 0.7802 - val_recall_m: 0.7857\n"
     ]
    },
    {
     "name": "stdout",
     "output_type": "stream",
     "text": [
      "Epoch 32/50\n",
      "54/54 [==============================] - 170s 3s/step - loss: 1.7215e-08 - accuracy: 1.0000 - f1_m: 1.0000 - precision_m: 1.0000 - recall_m: 1.0000 - val_loss: 0.4297 - val_accuracy: 0.9885 - val_f1_m: 0.7829 - val_precision_m: 0.7802 - val_recall_m: 0.7857\n",
      "Epoch 33/50\n",
      "54/54 [==============================] - 170s 3s/step - loss: 6.9798e-10 - accuracy: 1.0000 - f1_m: 1.0000 - precision_m: 1.0000 - recall_m: 1.0000 - val_loss: 0.4297 - val_accuracy: 0.9885 - val_f1_m: 0.7829 - val_precision_m: 0.7802 - val_recall_m: 0.7857\n",
      "Epoch 34/50\n",
      "54/54 [==============================] - 175s 3s/step - loss: 8.0274e-09 - accuracy: 1.0000 - f1_m: 1.0000 - precision_m: 1.0000 - recall_m: 1.0000 - val_loss: 0.4297 - val_accuracy: 0.9885 - val_f1_m: 0.7829 - val_precision_m: 0.7802 - val_recall_m: 0.7857\n",
      "Epoch 35/50\n",
      "54/54 [==============================] - 170s 3s/step - loss: 4.1906e-12 - accuracy: 1.0000 - f1_m: 1.0000 - precision_m: 1.0000 - recall_m: 1.0000 - val_loss: 0.4297 - val_accuracy: 0.9885 - val_f1_m: 0.7829 - val_precision_m: 0.7802 - val_recall_m: 0.7857\n",
      "Epoch 36/50\n",
      "54/54 [==============================] - 170s 3s/step - loss: 1.4259e-10 - accuracy: 1.0000 - f1_m: 1.0000 - precision_m: 1.0000 - recall_m: 1.0000 - val_loss: 0.4297 - val_accuracy: 0.9885 - val_f1_m: 0.7829 - val_precision_m: 0.7802 - val_recall_m: 0.7857\n",
      "Epoch 37/50\n",
      "54/54 [==============================] - 170s 3s/step - loss: 6.0122e-13 - accuracy: 1.0000 - f1_m: 1.0000 - precision_m: 1.0000 - recall_m: 1.0000 - val_loss: 0.4297 - val_accuracy: 0.9885 - val_f1_m: 0.7829 - val_precision_m: 0.7802 - val_recall_m: 0.7857\n",
      "Epoch 38/50\n",
      "54/54 [==============================] - 172s 3s/step - loss: 6.2785e-12 - accuracy: 1.0000 - f1_m: 1.0000 - precision_m: 1.0000 - recall_m: 1.0000 - val_loss: 0.4297 - val_accuracy: 0.9885 - val_f1_m: 0.7829 - val_precision_m: 0.7802 - val_recall_m: 0.7857\n",
      "Epoch 39/50\n",
      "54/54 [==============================] - 172s 3s/step - loss: 3.9267e-14 - accuracy: 1.0000 - f1_m: 1.0000 - precision_m: 1.0000 - recall_m: 1.0000 - val_loss: 0.4297 - val_accuracy: 0.9885 - val_f1_m: 0.7829 - val_precision_m: 0.7802 - val_recall_m: 0.7857\n",
      "Epoch 40/50\n",
      "54/54 [==============================] - 180s 3s/step - loss: 5.8539e-12 - accuracy: 1.0000 - f1_m: 1.0000 - precision_m: 1.0000 - recall_m: 1.0000 - val_loss: 0.4297 - val_accuracy: 0.9885 - val_f1_m: 0.7829 - val_precision_m: 0.7802 - val_recall_m: 0.7857\n",
      "Epoch 41/50\n",
      "54/54 [==============================] - 176s 3s/step - loss: 2.4678e-06 - accuracy: 1.0000 - f1_m: 1.0000 - precision_m: 1.0000 - recall_m: 1.0000 - val_loss: 0.4514 - val_accuracy: 0.9885 - val_f1_m: 0.7829 - val_precision_m: 0.7802 - val_recall_m: 0.7857\n",
      "Epoch 42/50\n",
      "54/54 [==============================] - 176s 3s/step - loss: 3.0355e-13 - accuracy: 1.0000 - f1_m: 1.0000 - precision_m: 1.0000 - recall_m: 1.0000 - val_loss: 0.4721 - val_accuracy: 0.9885 - val_f1_m: 0.7829 - val_precision_m: 0.7802 - val_recall_m: 0.7857\n",
      "Epoch 43/50\n",
      "54/54 [==============================] - 177s 3s/step - loss: 4.4290e-11 - accuracy: 1.0000 - f1_m: 1.0000 - precision_m: 1.0000 - recall_m: 1.0000 - val_loss: 0.4722 - val_accuracy: 0.9885 - val_f1_m: 0.7829 - val_precision_m: 0.7802 - val_recall_m: 0.7857\n",
      "Epoch 44/50\n",
      "54/54 [==============================] - 176s 3s/step - loss: 7.6632e-15 - accuracy: 1.0000 - f1_m: 1.0000 - precision_m: 1.0000 - recall_m: 1.0000 - val_loss: 0.4722 - val_accuracy: 0.9885 - val_f1_m: 0.7829 - val_precision_m: 0.7802 - val_recall_m: 0.7857\n",
      "Epoch 45/50\n",
      "54/54 [==============================] - 175s 3s/step - loss: 4.0793e-12 - accuracy: 1.0000 - f1_m: 1.0000 - precision_m: 1.0000 - recall_m: 1.0000 - val_loss: 0.4722 - val_accuracy: 0.9885 - val_f1_m: 0.7829 - val_precision_m: 0.7802 - val_recall_m: 0.7857\n",
      "Epoch 46/50\n",
      "54/54 [==============================] - 183s 3s/step - loss: 1.3924e-08 - accuracy: 1.0000 - f1_m: 1.0000 - precision_m: 1.0000 - recall_m: 1.0000 - val_loss: 0.4721 - val_accuracy: 0.9885 - val_f1_m: 0.7829 - val_precision_m: 0.7802 - val_recall_m: 0.7857\n",
      "Epoch 47/50\n",
      "54/54 [==============================] - 181s 3s/step - loss: 2.7876e-11 - accuracy: 1.0000 - f1_m: 1.0000 - precision_m: 1.0000 - recall_m: 1.0000 - val_loss: 0.4721 - val_accuracy: 0.9885 - val_f1_m: 0.7829 - val_precision_m: 0.7802 - val_recall_m: 0.7857\n",
      "Epoch 48/50\n",
      "54/54 [==============================] - 180s 3s/step - loss: 2.0185e-11 - accuracy: 1.0000 - f1_m: 1.0000 - precision_m: 1.0000 - recall_m: 1.0000 - val_loss: 0.4721 - val_accuracy: 0.9885 - val_f1_m: 0.7829 - val_precision_m: 0.7802 - val_recall_m: 0.7857\n",
      "Epoch 49/50\n",
      "54/54 [==============================] - 175s 3s/step - loss: 1.3052e-13 - accuracy: 1.0000 - f1_m: 1.0000 - precision_m: 1.0000 - recall_m: 1.0000 - val_loss: 0.4721 - val_accuracy: 0.9885 - val_f1_m: 0.7829 - val_precision_m: 0.7802 - val_recall_m: 0.7857\n",
      "Epoch 50/50\n",
      "54/54 [==============================] - 173s 3s/step - loss: 1.1902e-12 - accuracy: 1.0000 - f1_m: 1.0000 - precision_m: 1.0000 - recall_m: 1.0000 - val_loss: 0.4721 - val_accuracy: 0.9885 - val_f1_m: 0.7829 - val_precision_m: 0.7802 - val_recall_m: 0.7857\n",
      "Total time is 8679.293635129929 seconds\n"
     ]
    }
   ],
   "source": [
    "start1=time.time()\n",
    "history=model.fit(X_train,y_train,epochs=50,validation_data=(X_test,y_test))\n",
    "end1=time.time()\n",
    "print(f\"Total time is {end1 - start1} seconds\")"
   ]
  },
  {
   "cell_type": "code",
   "execution_count": 12,
   "metadata": {},
   "outputs": [
    {
     "data": {
      "image/png": "[encoded data removed]",
      "text/plain": [
       "<Figure size 432x288 with 1 Axes>"
      ]
     },
     "metadata": {
      "needs_background": "light"
     },
     "output_type": "display_data"
    },
    {
     "data": {
      "image/png": "[encoded data removed]",
      "text/plain": [
       "<Figure size 432x288 with 1 Axes>"
      ]
     },
     "metadata": {
      "needs_background": "light"
     },
     "output_type": "display_data"
    }
   ],
   "source": [
    "acc = history.history['accuracy']\n",
    "val_acc = history.history['val_accuracy']\n",
    "loss = history.history['loss']\n",
    "val_loss = history.history['val_loss']\n",
    "\n",
    "epochs = range(len(acc))\n",
    "\n",
    "plt.plot(epochs, acc, 'r', label='Training accuracy')\n",
    "plt.plot(epochs, val_acc, 'b', label='Validation accuracy')\n",
    "plt.title('Training and validation accuracy')\n",
    "\n",
    "plt.figure()\n",
    "\n",
    "plt.plot(epochs, loss, 'r', label='Training Loss')\n",
    "plt.plot(epochs, val_loss, 'b', label='Validation Loss')\n",
    "plt.title('Training and validation loss')\n",
    "\n",
    "plt.legend()\n",
    "\n",
    "plt.show()"
   ]
  },
  {
   "cell_type": "code",
   "execution_count": 13,
   "metadata": {},
   "outputs": [
    {
     "name": "stdout",
     "output_type": "stream",
     "text": [
      "[[111   5]\n",
      " [  0 317]]\n"
     ]
    },
    {
     "data": {
      "text/plain": [
       "<AxesSubplot:>"
      ]
     },
     "execution_count": 13,
     "metadata": {},
     "output_type": "execute_result"
    },
    {
     "data": {
      "image/png": "[encoded data removed]",
      "text/plain": [
       "<Figure size 432x288 with 2 Axes>"
      ]
     },
     "metadata": {
      "needs_background": "light"
     },
     "output_type": "display_data"
    }
   ],
   "source": [
    "y_pred = model.predict(X_test)\n",
    "y_pred =(y_pred>0.5)\n",
    "list(y_pred)\n",
    "from sklearn.metrics import confusion_matrix\n",
    "cm = confusion_matrix(y_test, y_pred)\n",
    "print(cm)\n",
    "sns.heatmap(cm,annot=True)"
   ]
  },
  {
   "cell_type": "code",
   "execution_count": 14,
   "metadata": {},
   "outputs": [],
   "source": [
    "test3_images=[]\n",
    "test3_labels=[]\n",
    "for directory_path in glob.glob(\"C:/covid_data/test/*\"):\n",
    "    label=directory_path.split(\"\\\\\")[-1]\n",
    "    #print(label)\n",
    "    for img_path in glob.glob(os.path.join(directory_path,\"*.PNG\")):\n",
    "       # print(img_path)\n",
    "        img=cv2.imread(img_path,cv2.IMREAD_COLOR)\n",
    "        img=cv2.resize(img,(size,size))\n",
    "        img=cv2.cvtColor(img,cv2.COLOR_RGB2BGR)\n",
    "        test3_images.append(img)\n",
    "        test3_labels.append(label)\n",
    "test3_images=np.array(test3_images)\n",
    "test3_labels=np.array(test3_labels)"
   ]
  },
  {
   "cell_type": "code",
   "execution_count": 15,
   "metadata": {},
   "outputs": [],
   "source": [
    "from sklearn import preprocessing\n",
    "le=preprocessing.LabelEncoder()\n",
    "le.fit(test3_labels)\n",
    "test3_labels_encoded=le.transform(test3_labels)"
   ]
  },
  {
   "cell_type": "code",
   "execution_count": 16,
   "metadata": {},
   "outputs": [],
   "source": [
    "X3_test,y3_test = test3_images,test3_labels_encoded\n",
    "\n",
    "X3_test=X3_test/255.0"
   ]
  },
  {
   "cell_type": "code",
   "execution_count": 17,
   "metadata": {},
   "outputs": [
    {
     "name": "stdout",
     "output_type": "stream",
     "text": [
      "20/20 [==============================] - 7s 362ms/step - loss: 0.0799 - accuracy: 0.9896 - f1_m: 0.6944 - precision_m: 0.7000 - recall_m: 0.6900\n",
      "Total time is 7.3405656814575195 seconds\n"
     ]
    }
   ],
   "source": [
    "start2=time.time()\n",
    "history1=model.evaluate(X3_test,y3_test,steps=20)\n",
    "end2=time.time()\n",
    "print(f\"Total time is {end2 - start2} seconds\")"
   ]
  },
  {
   "cell_type": "code",
   "execution_count": 18,
   "metadata": {},
   "outputs": [
    {
     "name": "stdout",
     "output_type": "stream",
     "text": [
      "[[30  0]\n",
      " [ 1 65]]\n",
      "Total time taken by this program is 8893.92408823967 seconds\n"
     ]
    },
    {
     "data": {
      "image/png": "[encoded data removed]",
      "text/plain": [
       "<Figure size 432x288 with 2 Axes>"
      ]
     },
     "metadata": {
      "needs_background": "light"
     },
     "output_type": "display_data"
    }
   ],
   "source": [
    "y3_pred = model.predict(X3_test)\n",
    "y3_pred =(y3_pred>0.5)\n",
    "list(y3_pred)\n",
    "from sklearn.metrics import confusion_matrix\n",
    "cm = confusion_matrix(y3_test, y3_pred)\n",
    "print(cm)\n",
    "sns.heatmap(cm,annot=True)\n",
    "end=time.time()\n",
    "print(f\"Total time taken by this program is {end - start} seconds\")"
   ]
  },
  {
   "cell_type": "code",
   "execution_count": null,
   "metadata": {},
   "outputs": [],
   "source": []
  }
 ],
 "metadata": {
  "kernelspec": {
   "display_name": "Python 3 (ipykernel)",
   "language": "python",
   "name": "python3"
  },
  "language_info": {
   "codemirror_mode": {
    "name": "ipython",
    "version": 3
   },
   "file_extension": ".py",
   "mimetype": "text/x-python",
   "name": "python",
   "nbconvert_exporter": "python",
   "pygments_lexer": "ipython3",
   "version": "3.9.13"
  }
 },
 "nbformat": 4,
 "nbformat_minor": 4
}
