{
  "nbformat": 4,
  "nbformat_minor": 0,
  "metadata": {
    "colab": {
      "provenance": []
    },
    "kernelspec": {
      "name": "python3",
      "display_name": "Python 3"
    },
    "language_info": {
      "name": "python"
    }
  },
  "cells": [
    {
      "cell_type": "code",
      "execution_count": null,
      "metadata": {
        "id": "C70s92ESdZnQ"
      },
      "outputs": [],
      "source": [
        "import numpy as np\n",
        "import tensorflow as tf\n",
        "%matplotlib inline\n",
        "import matplotlib.pyplot as plt\n",
        "from PIL import Image\n",
        "import keras\n",
        "from keras.preprocessing.image import ImageDataGenerator\n",
        "from tensorflow.keras.applications.resnet50 import ResNet50\n",
        "from tensorflow.keras.applications.resnet50 import preprocess_input\n",
        "from keras import Model, layers\n",
        "from keras.models import load_model, model_from_json"
      ]
    },
    {
      "cell_type": "code",
      "source": [
        "from google.colab import drive\n",
        "drive.mount('/content/drive')"
      ],
      "metadata": {
        "colab": {
          "base_uri": "https://localhost:8080/"
        },
        "id": "hTSf_JujdonP",
        "outputId": "4419e88a-524f-4ce5-d404-893b3f03e8f8"
      },
      "execution_count": null,
      "outputs": [
        {
          "output_type": "stream",
          "name": "stdout",
          "text": [
            "Mounted at /content/drive\n"
          ]
        }
      ]
    },
    {
      "cell_type": "code",
      "source": [
        "CHANNELS=3\n",
        "\n",
        "train_datagen = ImageDataGenerator(\n",
        "    shear_range=10,\n",
        "    zoom_range=0.2,\n",
        "    horizontal_flip=True,\n",
        "    preprocessing_function=preprocess_input)\n",
        "\n",
        "train_generator = train_datagen.flow_from_directory(\n",
        "    '/content/drive/MyDrive/Brain Tumar Data set/Dataset/New folder (2)/Train',\n",
        "    batch_size=32,\n",
        "    class_mode='categorical',\n",
        "    target_size=(224,224))\n",
        "\n",
        "validation_datagen = ImageDataGenerator(\n",
        "    preprocessing_function=preprocess_input)\n",
        "\n",
        "validation_generator = validation_datagen.flow_from_directory(\n",
        "   '/content/drive/MyDrive/Brain Tumar Data set/Dataset/New folder (2)/Validation',\n",
        "    shuffle=False,\n",
        "    class_mode='categorical',\n",
        "    target_size=(224,224))\n",
        "test_generator = validation_datagen.flow_from_directory(\n",
        "   '/content/drive/MyDrive/Brain Tumar Data set/Dataset/New folder (2)/Test',\n",
        "    shuffle=False,\n",
        "    class_mode='categorical',\n",
        "    target_size=(224,224))"
      ],
      "metadata": {
        "colab": {
          "base_uri": "https://localhost:8080/"
        },
        "id": "eFuf5LAxdtsX",
        "outputId": "93ce38e1-9b2f-4f80-b49a-26ed0bd7083c"
      },
      "execution_count": null,
      "outputs": [
        {
          "output_type": "stream",
          "name": "stdout",
          "text": [
            "Found 2180 images belonging to 3 classes.\n",
            "Found 306 images belonging to 3 classes.\n",
            "Found 629 images belonging to 3 classes.\n"
          ]
        }
      ]
    },
    {
      "cell_type": "code",
      "source": [
        "x,y=test_generator.next()\n",
        "x.shape"
      ],
      "metadata": {
        "colab": {
          "base_uri": "https://localhost:8080/"
        },
        "id": "riPP0PeqeEz1",
        "outputId": "c46493a7-cd38-4c7c-b486-6e10e60c8c08"
      },
      "execution_count": null,
      "outputs": [
        {
          "output_type": "execute_result",
          "data": {
            "text/plain": [
              "(32, 224, 224, 3)"
            ]
          },
          "metadata": {},
          "execution_count": 4
        }
      ]
    },
    {
      "cell_type": "code",
      "source": [
        "VGG19 = tf.keras.applications.VGG19(\n",
        "    include_top=False, \n",
        "    weights = 'imagenet', \n",
        "    input_shape=(224,224,3),\n",
        "    )"
      ],
      "metadata": {
        "colab": {
          "base_uri": "https://localhost:8080/"
        },
        "id": "vjxKN_8deKUE",
        "outputId": "9bb91f1f-82a1-4f21-b123-2dfe46f894ca"
      },
      "execution_count": null,
      "outputs": [
        {
          "output_type": "stream",
          "name": "stdout",
          "text": [
            "Downloading data from https://storage.googleapis.com/tensorflow/keras-applications/vgg19/vgg19_weights_tf_dim_ordering_tf_kernels_notop.h5\n",
            "80134624/80134624 [==============================] - 1s 0us/step\n"
          ]
        }
      ]
    },
    {
      "cell_type": "code",
      "source": [
        "VGG19.trainable = False"
      ],
      "metadata": {
        "id": "0lcb6PLKeNa1"
      },
      "execution_count": null,
      "outputs": []
    },
    {
      "cell_type": "code",
      "source": [
        "model = tf.keras.models.Sequential([\n",
        "  VGG19,\n",
        "  tf.keras.layers.Flatten(),\n",
        "  tf.keras.layers.Dropout(0.8),\n",
        "  tf.keras.layers.Dense(units=1024, activation='relu'),\n",
        "  tf.keras.layers.Dense(units=512, activation='relu'),\n",
        "  tf.keras.layers.Dense(units=3, activation='softmax'), \n",
        "])"
      ],
      "metadata": {
        "id": "qQf7AZG2eQqz"
      },
      "execution_count": null,
      "outputs": []
    },
    {
      "cell_type": "code",
      "source": [
        "model.compile(\n",
        "    optimizer = 'adam',\n",
        "    loss = 'categorical_crossentropy',\n",
        "    metrics = ['accuracy']\n",
        ")"
      ],
      "metadata": {
        "id": "6VEt5uxIeThd"
      },
      "execution_count": null,
      "outputs": []
    },
    {
      "cell_type": "code",
      "source": [
        "history = model.fit(\n",
        "    train_generator,\n",
        "    batch_size=32,\n",
        "    validation_data=test_generator,\n",
        "    epochs=10\n",
        ")"
      ],
      "metadata": {
        "colab": {
          "base_uri": "https://localhost:8080/"
        },
        "id": "DX8REdO3ee0S",
        "outputId": "c69c5141-3597-41d0-b445-09ac994ca645"
      },
      "execution_count": null,
      "outputs": [
        {
          "output_type": "stream",
          "name": "stdout",
          "text": [
            "Epoch 1/10\n",
            "69/69 [==============================] - 1753s 25s/step - loss: 5.4800 - accuracy: 0.6670 - val_loss: 1.2171 - val_accuracy: 0.7615\n",
            "Epoch 2/10\n",
            "69/69 [==============================] - 1703s 25s/step - loss: 0.7559 - accuracy: 0.7950 - val_loss: 0.5973 - val_accuracy: 0.7949\n",
            "Epoch 3/10\n",
            "69/69 [==============================] - 1711s 25s/step - loss: 0.5045 - accuracy: 0.8335 - val_loss: 1.1601 - val_accuracy: 0.7250\n",
            "Epoch 4/10\n",
            "69/69 [==============================] - 1709s 25s/step - loss: 0.4260 - accuracy: 0.8573 - val_loss: 0.7309 - val_accuracy: 0.7409\n",
            "Epoch 5/10\n",
            "69/69 [==============================] - 1705s 25s/step - loss: 0.3648 - accuracy: 0.8683 - val_loss: 0.6070 - val_accuracy: 0.7790\n",
            "Epoch 6/10\n",
            "69/69 [==============================] - 1717s 25s/step - loss: 0.3311 - accuracy: 0.8794 - val_loss: 0.7328 - val_accuracy: 0.7424\n",
            "Epoch 7/10\n",
            "69/69 [==============================] - 1730s 25s/step - loss: 0.3077 - accuracy: 0.8894 - val_loss: 0.5593 - val_accuracy: 0.7917\n",
            "Epoch 8/10\n",
            "69/69 [==============================] - 1804s 26s/step - loss: 0.2758 - accuracy: 0.9000 - val_loss: 0.6269 - val_accuracy: 0.7631\n",
            "Epoch 9/10\n",
            "69/69 [==============================] - 1735s 25s/step - loss: 0.2437 - accuracy: 0.9092 - val_loss: 0.5633 - val_accuracy: 0.8060\n",
            "Epoch 10/10\n",
            "69/69 [==============================] - 1720s 25s/step - loss: 0.2447 - accuracy: 0.9124 - val_loss: 0.7143 - val_accuracy: 0.7806\n"
          ]
        }
      ]
    },
    {
      "cell_type": "code",
      "source": [
        "loss, accuracy = model.evaluate(test_generator )\n",
        "\n",
        "# Print the accuracy\n",
        "print(\"Accuracy: \" + str(accuracy))\n",
        "# Print the loss\n",
        "print(\"Loss: \" + str(loss))"
      ],
      "metadata": {
        "colab": {
          "base_uri": "https://localhost:8080/"
        },
        "id": "q59BEL-Dei4E",
        "outputId": "3053fad5-fdb6-4cf3-e490-14e07f806e67"
      },
      "execution_count": null,
      "outputs": [
        {
          "output_type": "stream",
          "name": "stdout",
          "text": [
            "20/20 [==============================] - 383s 19s/step - loss: 0.7143 - accuracy: 0.7806\n",
            "Accuracy: 0.7806041240692139\n",
            "Loss: 0.7142829298973083\n"
          ]
        }
      ]
    },
    {
      "cell_type": "code",
      "source": [
        "import numpy as np\n",
        "from sklearn import metrics\n",
        "\n",
        "predictions = model.predict(test_generator)\n",
        "predicted_classes = np.argmax(predictions, axis = 1)\n",
        "true_classes = test_generator.classes\n",
        "class_labels = ['glioma', 'meningioma', 'pituitary_tumor']\n",
        "report = metrics.classification_report(true_classes, predicted_classes, target_names = class_labels)\n",
        "print(report)"
      ],
      "metadata": {
        "colab": {
          "base_uri": "https://localhost:8080/"
        },
        "id": "CeVvrCTDiDEf",
        "outputId": "cb243887-4d40-4d1a-9f20-3194d1e41ddd"
      },
      "execution_count": null,
      "outputs": [
        {
          "output_type": "stream",
          "name": "stdout",
          "text": [
            "20/20 [==============================] - 381s 19s/step\n",
            "                 precision    recall  f1-score   support\n",
            "\n",
            "         glioma       0.86      0.82      0.84       291\n",
            "     meningioma       0.64      0.56      0.60       152\n",
            "pituitary_tumor       0.77      0.90      0.83       186\n",
            "\n",
            "       accuracy                           0.78       629\n",
            "      macro avg       0.76      0.76      0.75       629\n",
            "   weighted avg       0.78      0.78      0.78       629\n",
            "\n"
          ]
        }
      ]
    },
    {
      "cell_type": "code",
      "source": [
        "import seaborn as sn\n",
        "import pandas as pd\n",
        "import matplotlib.pyplot as plt\n",
        "\n",
        "cm = metrics.confusion_matrix(true_classes, predicted_classes)\n",
        "df_cm = pd.DataFrame(cm, index = [i for i in ['glioma', 'meningioma', 'pituitary_tumor']],\n",
        "                  columns = [i for i in ['glioma', 'meningioma', 'pituitary_tumor']])\n",
        "plt.figure(figsize = (10,7))\n",
        "sn.heatmap(df_cm, annot=True, fmt='d')"
      ],
      "metadata": {
        "colab": {
          "base_uri": "https://localhost:8080/",
          "height": 235
        },
        "id": "Bk-7tnH3en-O",
        "outputId": "69c1d3df-d38e-4c93-859a-b0d32339befc"
      },
      "execution_count": null,
      "outputs": [
        {
          "output_type": "error",
          "ename": "NameError",
          "evalue": "ignored",
          "traceback": [
            "\u001b[0;31m---------------------------------------------------------------------------\u001b[0m",
            "\u001b[0;31mNameError\u001b[0m                                 Traceback (most recent call last)",
            "\u001b[0;32m<ipython-input-11-489dbde24b18>\u001b[0m in \u001b[0;36m<module>\u001b[0;34m\u001b[0m\n\u001b[1;32m      3\u001b[0m \u001b[0;32mimport\u001b[0m \u001b[0mmatplotlib\u001b[0m\u001b[0;34m.\u001b[0m\u001b[0mpyplot\u001b[0m \u001b[0;32mas\u001b[0m \u001b[0mplt\u001b[0m\u001b[0;34m\u001b[0m\u001b[0;34m\u001b[0m\u001b[0m\n\u001b[1;32m      4\u001b[0m \u001b[0;34m\u001b[0m\u001b[0m\n\u001b[0;32m----> 5\u001b[0;31m \u001b[0mcm\u001b[0m \u001b[0;34m=\u001b[0m \u001b[0mmetrics\u001b[0m\u001b[0;34m.\u001b[0m\u001b[0mconfusion_matrix\u001b[0m\u001b[0;34m(\u001b[0m\u001b[0mtrue_classes\u001b[0m\u001b[0;34m,\u001b[0m \u001b[0mpredicted_classes\u001b[0m\u001b[0;34m)\u001b[0m\u001b[0;34m\u001b[0m\u001b[0;34m\u001b[0m\u001b[0m\n\u001b[0m\u001b[1;32m      6\u001b[0m df_cm = pd.DataFrame(cm, index = [i for i in ['glioma', 'meningioma', 'pituitary_tumor']],\n\u001b[1;32m      7\u001b[0m                   columns = [i for i in ['glioma', 'meningioma', 'pituitary_tumor']])\n",
            "\u001b[0;31mNameError\u001b[0m: name 'metrics' is not defined"
          ]
        }
      ]
    },
    {
      "cell_type": "code",
      "source": [
        "plt.plot(history.history['accuracy'])\n",
        "plt.plot(history.history['val_accuracy'])\n",
        "plt.title(\"model accuacy\")\n",
        "plt.ylabel('accuracy')\n",
        "plt.xlabel('epoch')\n",
        "plt.legend(['train accuracy', 'validation accuracy'], loc='lower right')\n",
        "plt.show()\n",
        "\n",
        "plt.plot(history.history['loss'])\n",
        "plt.plot(history.history['val_loss'])\n",
        "plt.title('model loss')\n",
        "plt.ylabel('loss')\n",
        "plt.xlabel('epoch')\n",
        "plt.legend(['train loss', 'validation loss'], loc='upper right')\n",
        "plt.show()"
      ],
      "metadata": {
        "id": "WupihWNpeoBx"
      },
      "execution_count": null,
      "outputs": []
    },
    {
      "cell_type": "code",
      "source": [],
      "metadata": {
        "id": "0K9saYuoeoEe"
      },
      "execution_count": null,
      "outputs": []
    },
    {
      "cell_type": "code",
      "source": [],
      "metadata": {
        "id": "j0pKRg4OeoHf"
      },
      "execution_count": null,
      "outputs": []
    }
  ]
}