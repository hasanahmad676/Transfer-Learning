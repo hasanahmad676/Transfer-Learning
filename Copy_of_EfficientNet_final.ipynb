{
  "nbformat": 4,
  "nbformat_minor": 0,
  "metadata": {
    "colab": {
      "provenance": []
    },
    "kernelspec": {
      "name": "python3",
      "display_name": "Python 3"
    },
    "language_info": {
      "name": "python"
    },
    "accelerator": "GPU",
    "gpuClass": "standard"
  },
  "cells": [
    {
      "cell_type": "markdown",
      "source": [
        "# Accessing Dataset from Drive"
      ],
      "metadata": {
        "id": "tySZDWFg-EnK"
      }
    },
    {
      "cell_type": "code",
      "execution_count": null,
      "metadata": {
        "id": "YMVyum3W0Hyv",
        "colab": {
          "base_uri": "https://localhost:8080/"
        },
        "outputId": "8b0ea53d-4bff-4524-931a-20783d5078b8"
      },
      "outputs": [
        {
          "output_type": "stream",
          "name": "stdout",
          "text": [
            "Mounted at /content/drive\n"
          ]
        }
      ],
      "source": [
        "from google.colab import drive\n",
        "drive.mount('/content/drive')"
      ]
    },
    {
      "cell_type": "markdown",
      "source": [
        "# Installing Required Libraries"
      ],
      "metadata": {
        "id": "KQlKFZW0-Lhp"
      }
    },
    {
      "cell_type": "code",
      "source": [
        "!pip install  visualkeras\n",
        "!pip3 install ann_visualizer\n",
        "!pip install graphviz"
      ],
      "metadata": {
        "id": "-1m-P4qx02Ds",
        "colab": {
          "base_uri": "https://localhost:8080/"
        },
        "outputId": "177f905c-3320-478e-c0ab-dce4091b4b55"
      },
      "execution_count": null,
      "outputs": [
        {
          "output_type": "stream",
          "name": "stdout",
          "text": [
            "Looking in indexes: https://pypi.org/simple, https://us-python.pkg.dev/colab-wheels/public/simple/\n",
            "Collecting visualkeras\n",
            "  Downloading visualkeras-0.0.2-py3-none-any.whl (12 kB)\n",
            "Collecting aggdraw>=1.3.11\n",
            "  Downloading aggdraw-1.3.15-cp38-cp38-manylinux_2_17_x86_64.manylinux2014_x86_64.whl (992 kB)\n",
            "\u001b[2K     \u001b[90m━━━━━━━━━━━━━━━━━━━━━━━━━━━━━━━━━━━━━━\u001b[0m \u001b[32m992.2/992.2 KB\u001b[0m \u001b[31m53.6 MB/s\u001b[0m eta \u001b[36m0:00:00\u001b[0m\n",
            "\u001b[?25hRequirement already satisfied: pillow>=6.2.0 in /usr/local/lib/python3.8/dist-packages (from visualkeras) (7.1.2)\n",
            "Requirement already satisfied: numpy>=1.18.1 in /usr/local/lib/python3.8/dist-packages (from visualkeras) (1.21.6)\n",
            "Installing collected packages: aggdraw, visualkeras\n",
            "Successfully installed aggdraw-1.3.15 visualkeras-0.0.2\n",
            "Looking in indexes: https://pypi.org/simple, https://us-python.pkg.dev/colab-wheels/public/simple/\n",
            "Collecting ann_visualizer\n",
            "  Downloading ann_visualizer-2.5.tar.gz (4.7 kB)\n",
            "  Preparing metadata (setup.py) ... \u001b[?25l\u001b[?25hdone\n",
            "Building wheels for collected packages: ann_visualizer\n",
            "  Building wheel for ann_visualizer (setup.py) ... \u001b[?25l\u001b[?25hdone\n",
            "  Created wheel for ann_visualizer: filename=ann_visualizer-2.5-py3-none-any.whl size=4168 sha256=8beea0c853f5d3655cd86fbb57efb6eab1c823cc7e083a1d2e7f261aea870ff7\n",
            "  Stored in directory: /root/.cache/pip/wheels/4b/ef/77/9b8c4ae2f9a11de19957b80bc5c684accd99114bb8dc6b374c\n",
            "Successfully built ann_visualizer\n",
            "Installing collected packages: ann_visualizer\n",
            "Successfully installed ann_visualizer-2.5\n",
            "Looking in indexes: https://pypi.org/simple, https://us-python.pkg.dev/colab-wheels/public/simple/\n",
            "Requirement already satisfied: graphviz in /usr/local/lib/python3.8/dist-packages (0.10.1)\n"
          ]
        }
      ]
    },
    {
      "cell_type": "markdown",
      "source": [
        "# LIBRARIES"
      ],
      "metadata": {
        "id": "Rz77qMIv_h5z"
      }
    },
    {
      "cell_type": "code",
      "source": [
        "from tensorflow.keras.preprocessing.image import ImageDataGenerator, img_to_array, load_img\n",
        "from tensorflow.keras.models import Sequential , Model\n",
        "from tensorflow.keras.layers import Activation, Dropout, Flatten, Dense, Conv2D, MaxPooling2D\n",
        "from tensorflow.keras.applications import EfficientNetB0\n",
        "import matplotlib.pyplot as plt\n",
        "from glob import glob\n",
        "import pandas as pd\n",
        "import numpy as np \n",
        "import seaborn as sns\n",
        "import matplotlib.pyplot as plt \n",
        "import warnings\n",
        "warnings.filterwarnings('ignore')\n",
        "from sklearn.metrics import classification_report, confusion_matrix\n",
        "import visualkeras\n",
        "import os\n",
        "from tqdm import tqdm\n",
        "import cv2\n",
        "from sklearn.utils import shuffle\n",
        "from sklearn.model_selection import train_test_split\n",
        "import tensorflow as tf\n",
        "from tensorflow.keras.callbacks import EarlyStopping, ReduceLROnPlateau, TensorBoard, ModelCheckpoint"
      ],
      "metadata": {
        "id": "o2NJZidT06kR"
      },
      "execution_count": null,
      "outputs": []
    },
    {
      "cell_type": "markdown",
      "source": [
        "# Data Preprocessing"
      ],
      "metadata": {
        "id": "y3695A4q_re9"
      }
    },
    {
      "cell_type": "code",
      "source": [
        "labels = ['COVID19','NORMAL','PNEUMONIA','TURBERCULOSIS','LUNGCANCER']"
      ],
      "metadata": {
        "id": "7GiKvs4k1TEZ"
      },
      "execution_count": null,
      "outputs": []
    },
    {
      "cell_type": "code",
      "source": [
        "X_full = []\n",
        "y_full = []\n",
        "image_size = 224\n",
        "for i in labels:\n",
        "    folderPath = os.path.join('/content/drive/MyDrive/Defense/defense dataset/all clean',i)\n",
        "    for j in tqdm(os.listdir(folderPath)):\n",
        "        img = cv2.imread(os.path.join(folderPath,j))\n",
        "        img = cv2.cvtColor(img,cv2.COLOR_BGR2RGB)\n",
        "        img = cv2.resize(img,(image_size, image_size))\n",
        "        X_full.append(img)\n",
        "        y_full.append(i)\n",
        "        \n",
        "        \n",
        "X_full = np.array(X_full)\n",
        "y_full = np.array(y_full)"
      ],
      "metadata": {
        "id": "IukwWdxy1Tux",
        "colab": {
          "base_uri": "https://localhost:8080/"
        },
        "outputId": "674f32c3-db53-40a3-ebc3-92845c71cdee"
      },
      "execution_count": null,
      "outputs": [
        {
          "output_type": "stream",
          "name": "stderr",
          "text": [
            "100%|██████████| 576/576 [00:43<00:00, 13.20it/s]\n",
            "100%|██████████| 1583/1583 [01:43<00:00, 15.23it/s]\n",
            "100%|██████████| 4273/4273 [02:27<00:00, 28.88it/s]\n",
            "100%|██████████| 700/700 [00:18<00:00, 37.97it/s] \n",
            "100%|██████████| 93/93 [01:57<00:00,  1.26s/it]\n"
          ]
        }
      ]
    },
    {
      "cell_type": "markdown",
      "source": [
        "# Dividing the dataset as a Train & Test"
      ],
      "metadata": {
        "id": "myelrxA6_09-"
      }
    },
    {
      "cell_type": "code",
      "source": [
        "X_train,X_test,y_train,y_test = train_test_split(X_full,y_full, test_size=0.2,random_state=101)"
      ],
      "metadata": {
        "id": "fJEByaVm1Wjo"
      },
      "execution_count": null,
      "outputs": []
    },
    {
      "cell_type": "markdown",
      "source": [
        "# Performing One Hot Encoding on the labels after converting it into numerical values"
      ],
      "metadata": {
        "id": "lqlp-ZG__7ys"
      }
    },
    {
      "cell_type": "code",
      "source": [
        "y_train_new = []\n",
        "for i in y_train:\n",
        "    y_train_new.append(labels.index(i))\n",
        "y_train = y_train_new\n",
        "y_train = tf.keras.utils.to_categorical(y_train)\n",
        "\n",
        "\n",
        "y_test_new = []\n",
        "for i in y_test:\n",
        "    y_test_new.append(labels.index(i))\n",
        "y_test = y_test_new\n",
        "y_test = tf.keras.utils.to_categorical(y_test)"
      ],
      "metadata": {
        "id": "B2YW6Brb1bRw"
      },
      "execution_count": null,
      "outputs": []
    },
    {
      "cell_type": "markdown",
      "source": [
        "# efficientNet"
      ],
      "metadata": {
        "id": "16KF_GBfADUw"
      }
    },
    {
      "cell_type": "code",
      "source": [
        "efficientNet = tf.keras.applications.EfficientNetB0(\n",
        "    include_top=False, \n",
        "    weights = 'imagenet', \n",
        "    input_shape=(224,224,3),\n",
        "    )"
      ],
      "metadata": {
        "colab": {
          "base_uri": "https://localhost:8080/"
        },
        "id": "Yeeq7_hkylHf",
        "outputId": "8a134134-ff8b-4d73-9768-2606c792710e"
      },
      "execution_count": null,
      "outputs": [
        {
          "output_type": "stream",
          "name": "stdout",
          "text": [
            "Downloading data from https://storage.googleapis.com/keras-applications/efficientnetb0_notop.h5\n",
            "16705208/16705208 [==============================] - 2s 0us/step\n"
          ]
        }
      ]
    },
    {
      "cell_type": "code",
      "source": [
        "efficientNet.trainable = False"
      ],
      "metadata": {
        "id": "0VwP-HK81fQI"
      },
      "execution_count": null,
      "outputs": []
    },
    {
      "cell_type": "code",
      "source": [
        "model = tf.keras.models.Sequential([\n",
        "  efficientNet,\n",
        "  tf.keras.layers.Flatten(),\n",
        "  tf.keras.layers.Dropout(0.8),\n",
        "  tf.keras.layers.Dense(units=1024, activation='relu'),\n",
        "  tf.keras.layers.Dense(units=512, activation='relu'),\n",
        "  tf.keras.layers.Dense(units=5, activation='softmax'), \n",
        "])"
      ],
      "metadata": {
        "id": "YWoKC-aN1f7a"
      },
      "execution_count": null,
      "outputs": []
    },
    {
      "cell_type": "markdown",
      "source": [
        "# Compiling the Model"
      ],
      "metadata": {
        "id": "rfY8xGHvDG5n"
      }
    },
    {
      "cell_type": "code",
      "source": [
        "model.compile(\n",
        "    optimizer = 'adam',\n",
        "    loss = 'categorical_crossentropy',\n",
        "    metrics = ['accuracy']\n",
        ")\n",
        "model.summary()"
      ],
      "metadata": {
        "id": "zJ4QrFNo1_gz",
        "colab": {
          "base_uri": "https://localhost:8080/"
        },
        "outputId": "c75a2f2c-dcdf-4521-8923-f8569c261a67"
      },
      "execution_count": null,
      "outputs": [
        {
          "output_type": "stream",
          "name": "stdout",
          "text": [
            "Model: \"sequential\"\n",
            "_________________________________________________________________\n",
            " Layer (type)                Output Shape              Param #   \n",
            "=================================================================\n",
            " efficientnetb0 (Functional)  (None, 7, 7, 1280)       4049571   \n",
            "                                                                 \n",
            " flatten (Flatten)           (None, 62720)             0         \n",
            "                                                                 \n",
            " dropout (Dropout)           (None, 62720)             0         \n",
            "                                                                 \n",
            " dense (Dense)               (None, 1024)              64226304  \n",
            "                                                                 \n",
            " dense_1 (Dense)             (None, 512)               524800    \n",
            "                                                                 \n",
            " dense_2 (Dense)             (None, 5)                 2565      \n",
            "                                                                 \n",
            "=================================================================\n",
            "Total params: 68,803,240\n",
            "Trainable params: 64,753,669\n",
            "Non-trainable params: 4,049,571\n",
            "_________________________________________________________________\n"
          ]
        }
      ]
    },
    {
      "cell_type": "code",
      "source": [
        "tensorboard = TensorBoard(log_dir = 'logs')\n",
        "checkpoint = ModelCheckpoint(\"CovidModelEfficientNet.h5\",monitor=\"val_accuracy\",save_best_only=True,mode=\"auto\",verbose=1)\n",
        "reduce_lr = ReduceLROnPlateau(monitor = 'val_accuracy', \n",
        "                              factor = 0.3, \n",
        "                              patience = 2, \n",
        "                              min_delta = 0.001,\n",
        "                              mode='auto',verbose=1)"
      ],
      "metadata": {
        "id": "9jAqasny2EWM"
      },
      "execution_count": null,
      "outputs": []
    },
    {
      "cell_type": "markdown",
      "source": [
        "# Training the Model"
      ],
      "metadata": {
        "id": "L2JyBbHHDS3f"
      }
    },
    {
      "cell_type": "code",
      "source": [
        "hist = model.fit(X_train,\n",
        "                 y_train,\n",
        "                 validation_split=0.1, \n",
        "                 #epochs =15\n",
        "                 epochs =30, \n",
        "                 verbose=1, \n",
        "                 batch_size=32,\n",
        "                 #batch_size=16,\n",
        "                  callbacks=[tensorboard,checkpoint,reduce_lr]\n",
        "                 )"
      ],
      "metadata": {
        "id": "Pk7Fo6oA2Ix7",
        "colab": {
          "base_uri": "https://localhost:8080/"
        },
        "outputId": "8bbd31e3-caa0-4b60-b038-25d5f4dea031"
      },
      "execution_count": null,
      "outputs": [
        {
          "output_type": "stream",
          "name": "stdout",
          "text": [
            "Epoch 1/30\n",
            "163/163 [==============================] - ETA: 0s - loss: 0.9732 - accuracy: 0.8768\n",
            "Epoch 1: val_accuracy improved from -inf to 0.95329, saving model to CovidModelEfficientNet.h5\n",
            "163/163 [==============================] - 32s 120ms/step - loss: 0.9732 - accuracy: 0.8768 - val_loss: 0.1649 - val_accuracy: 0.9533 - lr: 0.0010\n",
            "Epoch 2/30\n",
            "163/163 [==============================] - ETA: 0s - loss: 0.1549 - accuracy: 0.9475\n",
            "Epoch 2: val_accuracy did not improve from 0.95329\n",
            "163/163 [==============================] - 13s 81ms/step - loss: 0.1549 - accuracy: 0.9475 - val_loss: 0.2071 - val_accuracy: 0.9446 - lr: 0.0010\n",
            "Epoch 3/30\n",
            "163/163 [==============================] - ETA: 0s - loss: 0.1559 - accuracy: 0.9491\n",
            "Epoch 3: val_accuracy improved from 0.95329 to 0.95502, saving model to CovidModelEfficientNet.h5\n",
            "163/163 [==============================] - 16s 100ms/step - loss: 0.1559 - accuracy: 0.9491 - val_loss: 0.1512 - val_accuracy: 0.9550 - lr: 0.0010\n",
            "Epoch 4/30\n",
            "163/163 [==============================] - ETA: 0s - loss: 0.1100 - accuracy: 0.9606\n",
            "Epoch 4: val_accuracy improved from 0.95502 to 0.96540, saving model to CovidModelEfficientNet.h5\n",
            "163/163 [==============================] - 17s 102ms/step - loss: 0.1100 - accuracy: 0.9606 - val_loss: 0.1531 - val_accuracy: 0.9654 - lr: 0.0010\n",
            "Epoch 5/30\n",
            "163/163 [==============================] - ETA: 0s - loss: 0.1075 - accuracy: 0.9596\n",
            "Epoch 5: val_accuracy did not improve from 0.96540\n",
            "163/163 [==============================] - 13s 81ms/step - loss: 0.1075 - accuracy: 0.9596 - val_loss: 0.2520 - val_accuracy: 0.9464 - lr: 0.0010\n",
            "Epoch 6/30\n",
            "163/163 [==============================] - ETA: 0s - loss: 0.1088 - accuracy: 0.9650\n",
            "Epoch 6: val_accuracy did not improve from 0.96540\n",
            "\n",
            "Epoch 6: ReduceLROnPlateau reducing learning rate to 0.0003000000142492354.\n",
            "163/163 [==============================] - 13s 82ms/step - loss: 0.1088 - accuracy: 0.9650 - val_loss: 0.0987 - val_accuracy: 0.9637 - lr: 0.0010\n",
            "Epoch 7/30\n",
            "163/163 [==============================] - ETA: 0s - loss: 0.0637 - accuracy: 0.9764\n",
            "Epoch 7: val_accuracy did not improve from 0.96540\n",
            "163/163 [==============================] - 13s 81ms/step - loss: 0.0637 - accuracy: 0.9764 - val_loss: 0.1113 - val_accuracy: 0.9637 - lr: 3.0000e-04\n",
            "Epoch 8/30\n",
            "163/163 [==============================] - ETA: 0s - loss: 0.0479 - accuracy: 0.9823\n",
            "Epoch 8: val_accuracy improved from 0.96540 to 0.97232, saving model to CovidModelEfficientNet.h5\n",
            "163/163 [==============================] - 17s 102ms/step - loss: 0.0479 - accuracy: 0.9823 - val_loss: 0.1073 - val_accuracy: 0.9723 - lr: 3.0000e-04\n",
            "Epoch 9/30\n",
            "162/163 [============================>.] - ETA: 0s - loss: 0.0455 - accuracy: 0.9823\n",
            "Epoch 9: val_accuracy did not improve from 0.97232\n",
            "163/163 [==============================] - 13s 81ms/step - loss: 0.0455 - accuracy: 0.9823 - val_loss: 0.1109 - val_accuracy: 0.9654 - lr: 3.0000e-04\n",
            "Epoch 10/30\n",
            "163/163 [==============================] - ETA: 0s - loss: 0.0478 - accuracy: 0.9810\n",
            "Epoch 10: val_accuracy did not improve from 0.97232\n",
            "\n",
            "Epoch 10: ReduceLROnPlateau reducing learning rate to 9.000000427477062e-05.\n",
            "163/163 [==============================] - 13s 82ms/step - loss: 0.0478 - accuracy: 0.9810 - val_loss: 0.0894 - val_accuracy: 0.9689 - lr: 3.0000e-04\n",
            "Epoch 11/30\n",
            "163/163 [==============================] - ETA: 0s - loss: 0.0431 - accuracy: 0.9833\n",
            "Epoch 11: val_accuracy did not improve from 0.97232\n",
            "163/163 [==============================] - 13s 80ms/step - loss: 0.0431 - accuracy: 0.9833 - val_loss: 0.0876 - val_accuracy: 0.9689 - lr: 9.0000e-05\n",
            "Epoch 12/30\n",
            "163/163 [==============================] - ETA: 0s - loss: 0.0369 - accuracy: 0.9852\n",
            "Epoch 12: val_accuracy improved from 0.97232 to 0.97405, saving model to CovidModelEfficientNet.h5\n",
            "163/163 [==============================] - 17s 103ms/step - loss: 0.0369 - accuracy: 0.9852 - val_loss: 0.0807 - val_accuracy: 0.9740 - lr: 9.0000e-05\n",
            "Epoch 13/30\n",
            "163/163 [==============================] - ETA: 0s - loss: 0.0361 - accuracy: 0.9871\n",
            "Epoch 13: val_accuracy did not improve from 0.97405\n",
            "163/163 [==============================] - 13s 81ms/step - loss: 0.0361 - accuracy: 0.9871 - val_loss: 0.0827 - val_accuracy: 0.9689 - lr: 9.0000e-05\n",
            "Epoch 14/30\n",
            "163/163 [==============================] - ETA: 0s - loss: 0.0330 - accuracy: 0.9864\n",
            "Epoch 14: val_accuracy did not improve from 0.97405\n",
            "\n",
            "Epoch 14: ReduceLROnPlateau reducing learning rate to 2.700000040931627e-05.\n",
            "163/163 [==============================] - 13s 83ms/step - loss: 0.0330 - accuracy: 0.9864 - val_loss: 0.0861 - val_accuracy: 0.9689 - lr: 9.0000e-05\n",
            "Epoch 15/30\n",
            "163/163 [==============================] - ETA: 0s - loss: 0.0340 - accuracy: 0.9883\n",
            "Epoch 15: val_accuracy did not improve from 0.97405\n",
            "163/163 [==============================] - 14s 84ms/step - loss: 0.0340 - accuracy: 0.9883 - val_loss: 0.0818 - val_accuracy: 0.9706 - lr: 2.7000e-05\n",
            "Epoch 16/30\n",
            "163/163 [==============================] - ETA: 0s - loss: 0.0332 - accuracy: 0.9875\n",
            "Epoch 16: val_accuracy did not improve from 0.97405\n",
            "\n",
            "Epoch 16: ReduceLROnPlateau reducing learning rate to 8.100000013655517e-06.\n",
            "163/163 [==============================] - 13s 82ms/step - loss: 0.0332 - accuracy: 0.9875 - val_loss: 0.0835 - val_accuracy: 0.9706 - lr: 2.7000e-05\n",
            "Epoch 17/30\n",
            "163/163 [==============================] - ETA: 0s - loss: 0.0257 - accuracy: 0.9900\n",
            "Epoch 17: val_accuracy did not improve from 0.97405\n",
            "163/163 [==============================] - 13s 81ms/step - loss: 0.0257 - accuracy: 0.9900 - val_loss: 0.0833 - val_accuracy: 0.9689 - lr: 8.1000e-06\n",
            "Epoch 18/30\n",
            "163/163 [==============================] - ETA: 0s - loss: 0.0297 - accuracy: 0.9890\n",
            "Epoch 18: val_accuracy did not improve from 0.97405\n",
            "\n",
            "Epoch 18: ReduceLROnPlateau reducing learning rate to 2.429999949526973e-06.\n",
            "163/163 [==============================] - 13s 81ms/step - loss: 0.0297 - accuracy: 0.9890 - val_loss: 0.0835 - val_accuracy: 0.9689 - lr: 8.1000e-06\n",
            "Epoch 19/30\n",
            "163/163 [==============================] - ETA: 0s - loss: 0.0290 - accuracy: 0.9890\n",
            "Epoch 19: val_accuracy did not improve from 0.97405\n",
            "163/163 [==============================] - 13s 82ms/step - loss: 0.0290 - accuracy: 0.9890 - val_loss: 0.0836 - val_accuracy: 0.9689 - lr: 2.4300e-06\n",
            "Epoch 20/30\n",
            "163/163 [==============================] - ETA: 0s - loss: 0.0276 - accuracy: 0.9896\n",
            "Epoch 20: val_accuracy did not improve from 0.97405\n",
            "\n",
            "Epoch 20: ReduceLROnPlateau reducing learning rate to 7.289999985005124e-07.\n",
            "163/163 [==============================] - 13s 81ms/step - loss: 0.0276 - accuracy: 0.9896 - val_loss: 0.0838 - val_accuracy: 0.9689 - lr: 2.4300e-06\n",
            "Epoch 21/30\n",
            "163/163 [==============================] - ETA: 0s - loss: 0.0319 - accuracy: 0.9862\n",
            "Epoch 21: val_accuracy did not improve from 0.97405\n",
            "163/163 [==============================] - 13s 81ms/step - loss: 0.0319 - accuracy: 0.9862 - val_loss: 0.0838 - val_accuracy: 0.9689 - lr: 7.2900e-07\n",
            "Epoch 22/30\n",
            "163/163 [==============================] - ETA: 0s - loss: 0.0267 - accuracy: 0.9900\n",
            "Epoch 22: val_accuracy did not improve from 0.97405\n",
            "\n",
            "Epoch 22: ReduceLROnPlateau reducing learning rate to 2.1870000637136398e-07.\n",
            "163/163 [==============================] - 13s 82ms/step - loss: 0.0267 - accuracy: 0.9900 - val_loss: 0.0837 - val_accuracy: 0.9689 - lr: 7.2900e-07\n",
            "Epoch 23/30\n",
            "163/163 [==============================] - ETA: 0s - loss: 0.0276 - accuracy: 0.9896\n",
            "Epoch 23: val_accuracy did not improve from 0.97405\n",
            "163/163 [==============================] - 13s 82ms/step - loss: 0.0276 - accuracy: 0.9896 - val_loss: 0.0838 - val_accuracy: 0.9689 - lr: 2.1870e-07\n",
            "Epoch 24/30\n",
            "163/163 [==============================] - ETA: 0s - loss: 0.0279 - accuracy: 0.9875\n",
            "Epoch 24: val_accuracy did not improve from 0.97405\n",
            "\n",
            "Epoch 24: ReduceLROnPlateau reducing learning rate to 6.561000276406048e-08.\n",
            "163/163 [==============================] - 13s 82ms/step - loss: 0.0279 - accuracy: 0.9875 - val_loss: 0.0838 - val_accuracy: 0.9689 - lr: 2.1870e-07\n",
            "Epoch 25/30\n",
            "163/163 [==============================] - ETA: 0s - loss: 0.0284 - accuracy: 0.9885\n",
            "Epoch 25: val_accuracy did not improve from 0.97405\n",
            "163/163 [==============================] - 13s 82ms/step - loss: 0.0284 - accuracy: 0.9885 - val_loss: 0.0838 - val_accuracy: 0.9689 - lr: 6.5610e-08\n",
            "Epoch 26/30\n",
            "163/163 [==============================] - ETA: 0s - loss: 0.0327 - accuracy: 0.9883\n",
            "Epoch 26: val_accuracy did not improve from 0.97405\n",
            "\n",
            "Epoch 26: ReduceLROnPlateau reducing learning rate to 1.9683000829218145e-08.\n",
            "163/163 [==============================] - 13s 82ms/step - loss: 0.0327 - accuracy: 0.9883 - val_loss: 0.0838 - val_accuracy: 0.9689 - lr: 6.5610e-08\n",
            "Epoch 27/30\n",
            "163/163 [==============================] - ETA: 0s - loss: 0.0367 - accuracy: 0.9844\n",
            "Epoch 27: val_accuracy did not improve from 0.97405\n",
            "163/163 [==============================] - 13s 82ms/step - loss: 0.0367 - accuracy: 0.9844 - val_loss: 0.0838 - val_accuracy: 0.9689 - lr: 1.9683e-08\n",
            "Epoch 28/30\n",
            "163/163 [==============================] - ETA: 0s - loss: 0.0293 - accuracy: 0.9896\n",
            "Epoch 28: val_accuracy did not improve from 0.97405\n",
            "\n",
            "Epoch 28: ReduceLROnPlateau reducing learning rate to 5.904900035602622e-09.\n",
            "163/163 [==============================] - 13s 82ms/step - loss: 0.0293 - accuracy: 0.9896 - val_loss: 0.0838 - val_accuracy: 0.9689 - lr: 1.9683e-08\n",
            "Epoch 29/30\n",
            "163/163 [==============================] - ETA: 0s - loss: 0.0264 - accuracy: 0.9902\n",
            "Epoch 29: val_accuracy did not improve from 0.97405\n",
            "163/163 [==============================] - 13s 81ms/step - loss: 0.0264 - accuracy: 0.9902 - val_loss: 0.0838 - val_accuracy: 0.9689 - lr: 5.9049e-09\n",
            "Epoch 30/30\n",
            "162/163 [============================>.] - ETA: 0s - loss: 0.0318 - accuracy: 0.9880\n",
            "Epoch 30: val_accuracy did not improve from 0.97405\n",
            "\n",
            "Epoch 30: ReduceLROnPlateau reducing learning rate to 1.7714700373261393e-09.\n",
            "163/163 [==============================] - 13s 81ms/step - loss: 0.0317 - accuracy: 0.9881 - val_loss: 0.0838 - val_accuracy: 0.9689 - lr: 5.9049e-09\n"
          ]
        }
      ]
    },
    {
      "cell_type": "markdown",
      "source": [
        "# Accuracy of the Model"
      ],
      "metadata": {
        "id": "GxWhbeUUDZCZ"
      }
    },
    {
      "cell_type": "code",
      "source": [
        "results = model.evaluate(X_train,y_train)"
      ],
      "metadata": {
        "id": "htp2vdwX2MyC",
        "colab": {
          "base_uri": "https://localhost:8080/"
        },
        "outputId": "199a648a-cb2b-41f6-fff3-d65806188af9"
      },
      "execution_count": null,
      "outputs": [
        {
          "output_type": "stream",
          "name": "stdout",
          "text": [
            "181/181 [==============================] - 12s 65ms/step - loss: 0.0178 - accuracy: 0.9948\n"
          ]
        }
      ]
    },
    {
      "cell_type": "code",
      "source": [
        "results2 = model.evaluate(X_test,y_test)"
      ],
      "metadata": {
        "id": "fSiHMG_z2Pzk",
        "colab": {
          "base_uri": "https://localhost:8080/"
        },
        "outputId": "4324e711-e7fb-464e-8030-e841738a99f3"
      },
      "execution_count": null,
      "outputs": [
        {
          "output_type": "stream",
          "name": "stdout",
          "text": [
            "46/46 [==============================] - 3s 69ms/step - loss: 0.1009 - accuracy: 0.9709\n"
          ]
        }
      ]
    },
    {
      "cell_type": "markdown",
      "source": [
        "# Visualize of the Graph"
      ],
      "metadata": {
        "id": "249zNhShDdcc"
      }
    },
    {
      "cell_type": "code",
      "source": [
        "print(hist.history.keys())"
      ],
      "metadata": {
        "id": "8xOt5m4w2RgM",
        "colab": {
          "base_uri": "https://localhost:8080/"
        },
        "outputId": "70ee52cd-3dc7-467f-bc55-e4b000ab94d7"
      },
      "execution_count": null,
      "outputs": [
        {
          "output_type": "stream",
          "name": "stdout",
          "text": [
            "dict_keys(['loss', 'accuracy', 'val_loss', 'val_accuracy', 'lr'])\n"
          ]
        }
      ]
    },
    {
      "cell_type": "code",
      "source": [
        "plt.figure(figsize=(15,10))\n",
        "plt.plot(hist.history[\"loss\"],label = \"training loss\")\n",
        "plt.plot(hist.history[\"val_loss\"],label = \"validation loss\")\n",
        "plt.title(\"Training Loss & Validation Loss\")\n",
        "plt.xlabel(\"Epoch\")\n",
        "plt.ylabel(\"Loss\")\n",
        "plt.legend()\n",
        "plt.show()\n",
        "\n",
        "plt.figure(figsize=(15,10))\n",
        "plt.plot(hist.history[\"accuracy\"],label = \"training acc\")\n",
        "plt.plot(hist.history[\"val_accuracy\"],label = \"validation acc\")\n",
        "plt.title(\"Training Accuracy & Validation Accuracy\")\n",
        "plt.xlabel(\"Epoch\")\n",
        "plt.ylabel(\"Accuracy\")\n",
        "plt.legend()\n",
        "plt.show()"
      ],
      "metadata": {
        "id": "ojkLA2QD2TkM",
        "colab": {
          "base_uri": "https://localhost:8080/",
          "height": 1000
        },
        "outputId": "370e529f-ef91-4511-d838-8060ac3d135d"
      },
      "execution_count": null,
      "outputs": [
        {
          "output_type": "display_data",
          "data": {
            "text/plain": [
              "<Figure size 1080x720 with 1 Axes>"
            ],
            "image/png": "[encoded data removed]"
          },
          "metadata": {
            "needs_background": "light"
          }
        },
        {
          "output_type": "display_data",
          "data": {
            "text/plain": [
              "<Figure size 1080x720 with 1 Axes>"
            ],
            "image/png": "[encoded data removed]"
          },
          "metadata": {
            "needs_background": "light"
          }
        }
      ]
    },
    {
      "cell_type": "markdown",
      "source": [
        "# CLASSIFICATION REPORT"
      ],
      "metadata": {
        "id": "KsKddL4-DoaA"
      }
    },
    {
      "cell_type": "code",
      "source": [
        "pred = model.predict(X_test)\n",
        "pred = np.argmax(pred,axis=1)\n",
        "y_test_new = np.argmax(y_test,axis=1)"
      ],
      "metadata": {
        "id": "9L96zva82YxM",
        "colab": {
          "base_uri": "https://localhost:8080/"
        },
        "outputId": "876125cb-cc98-47d7-dc3e-c84f00a39fca"
      },
      "execution_count": null,
      "outputs": [
        {
          "output_type": "stream",
          "name": "stdout",
          "text": [
            "46/46 [==============================] - 4s 58ms/step\n"
          ]
        }
      ]
    },
    {
      "cell_type": "code",
      "source": [
        "print(classification_report(y_test_new,pred))"
      ],
      "metadata": {
        "id": "G0kObNu_2b5U",
        "colab": {
          "base_uri": "https://localhost:8080/"
        },
        "outputId": "4c1e064b-63c1-4d38-951d-bd8bb4433e58"
      },
      "execution_count": null,
      "outputs": [
        {
          "output_type": "stream",
          "name": "stdout",
          "text": [
            "              precision    recall  f1-score   support\n",
            "\n",
            "           0       1.00      0.96      0.98       114\n",
            "           1       0.94      0.94      0.94       315\n",
            "           2       0.98      0.98      0.98       859\n",
            "           3       0.98      1.00      0.99       146\n",
            "           4       1.00      1.00      1.00        11\n",
            "\n",
            "    accuracy                           0.97      1445\n",
            "   macro avg       0.98      0.98      0.98      1445\n",
            "weighted avg       0.97      0.97      0.97      1445\n",
            "\n"
          ]
        }
      ]
    },
    {
      "cell_type": "markdown",
      "source": [
        "# CONFUSION MATRIX"
      ],
      "metadata": {
        "id": "1Zdk93nTEGcg"
      }
    },
    {
      "cell_type": "code",
      "source": [
        "colors_dark = [\"#1F1F1F\", \"#313131\", '#636363', '#AEAEAE', '#DADADA']\n",
        "colors_red = [\"#331313\", \"#582626\", '#9E1717', '#D35151', '#E9B4B4']\n",
        "colors_green = ['#01411C','#4B6F44','#4F7942','#74C365','#D0F0C0']\n",
        "\n",
        "sns.palplot(colors_dark)\n",
        "sns.palplot(colors_green)\n",
        "sns.palplot(colors_red)"
      ],
      "metadata": {
        "id": "o3IPq2nI2en4",
        "colab": {
          "base_uri": "https://localhost:8080/",
          "height": 233
        },
        "outputId": "900bd9df-8dde-4a4c-80d2-cf03bbe1211e"
      },
      "execution_count": null,
      "outputs": [
        {
          "output_type": "display_data",
          "data": {
            "text/plain": [
              "<Figure size 360x72 with 1 Axes>"
            ],
            "image/png": "[encoded data removed]"
          },
          "metadata": {
            "needs_background": "light"
          }
        },
        {
          "output_type": "display_data",
          "data": {
            "text/plain": [
              "<Figure size 360x72 with 1 Axes>"
            ],
            "image/png": "[encoded data removed]"
          },
          "metadata": {
            "needs_background": "light"
          }
        },
        {
          "output_type": "display_data",
          "data": {
            "text/plain": [
              "<Figure size 360x72 with 1 Axes>"
            ],
            "image/png": "[encoded data removed]"
          },
          "metadata": {
            "needs_background": "light"
          }
        }
      ]
    },
    {
      "cell_type": "code",
      "source": [
        "fig,ax=plt.subplots(1,1,figsize=(14,7))\n",
        "\n",
        "sns.heatmap(confusion_matrix(y_test_new,pred),\n",
        "            ax=ax,\n",
        "            xticklabels=labels,\n",
        "            yticklabels=labels,\n",
        "            annot=True,\n",
        "            cmap=colors_green[::-1],\n",
        "            alpha=0.7,\n",
        "            linewidths=2,\n",
        "            linecolor=colors_dark[3]\n",
        "            )\n",
        "\n",
        "fig.text(s='Confusion Matrix',\n",
        "         size=18,\n",
        "         fontweight='bold',\n",
        "         fontname='monospace',\n",
        "         color=colors_dark[1],\n",
        "         y=0.92,\n",
        "         x=0.28,\n",
        "         alpha=0.8)\n",
        "print(confusion_matrix(y_test_new,pred))\n",
        "plt.show()"
      ],
      "metadata": {
        "id": "f-vI3IXm2hI8",
        "colab": {
          "base_uri": "https://localhost:8080/",
          "height": 550
        },
        "outputId": "f9fcef81-1af1-4f22-b635-6567419deb9c"
      },
      "execution_count": null,
      "outputs": [
        {
          "output_type": "stream",
          "name": "stdout",
          "text": [
            "[[109   0   2   3   0]\n",
            " [  0 297  18   0   0]\n",
            " [  0  19 840   0   0]\n",
            " [  0   0   0 146   0]\n",
            " [  0   0   0   0  11]]\n"
          ]
        },
        {
          "output_type": "display_data",
          "data": {
            "text/plain": [
              "<Figure size 1008x504 with 2 Axes>"
            ],
            "image/png": "[encoded data removed]"
          },
          "metadata": {
            "needs_background": "light"
          }
        }
      ]
    }
  ]
}