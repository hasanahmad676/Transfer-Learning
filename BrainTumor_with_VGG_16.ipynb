{
  "nbformat": 4,
  "nbformat_minor": 0,
  "metadata": {
    "colab": {
      "provenance": []
    },
    "kernelspec": {
      "name": "python3",
      "display_name": "Python 3"
    },
    "language_info": {
      "name": "python"
    }
  },
  "cells": [
    {
      "cell_type": "code",
      "execution_count": null,
      "metadata": {
        "id": "Hnv4b_33aDP7"
      },
      "outputs": [],
      "source": [
        "import tensorflow as tf\n",
        "import numpy as np\n",
        "import matplotlib.pyplot as plt\n",
        "\n",
        "import tensorflow_hub as hub\n",
        "import tensorflow_datasets as tfds\n",
        "\n",
        "from tensorflow.keras import layers\n",
        "from tensorflow.keras.preprocessing.image import ImageDataGenerator"
      ]
    },
    {
      "cell_type": "code",
      "source": [
        "import logging\n",
        "logger = tf.get_logger()\n",
        "logger.setLevel(logging.ERROR)"
      ],
      "metadata": {
        "id": "1sW7dDDtaT-W"
      },
      "execution_count": null,
      "outputs": []
    },
    {
      "cell_type": "code",
      "source": [
        "import keras\n",
        "from keras.applications.mobilenet import MobileNet\n",
        "\n",
        "from sklearn.metrics import confusion_matrix\n",
        "from keras.layers.core import Dense, Activation\n",
        "from keras.metrics import categorical_crossentropy\n",
        "from keras.metrics import binary_crossentropy\n",
        "from sklearn.model_selection import train_test_split\n",
        "from keras.preprocessing.image import ImageDataGenerator\n",
        "from keras.applications.mobilenet import preprocess_input\n",
        "from tensorflow.keras.preprocessing import image_dataset_from_directory\n",
        "import tensorflow as tf\n",
        "from keras.preprocessing import image"
      ],
      "metadata": {
        "id": "4BifxDyXaUBP"
      },
      "execution_count": null,
      "outputs": []
    },
    {
      "cell_type": "code",
      "source": [
        "train_datagen = image.ImageDataGenerator(\n",
        "    rescale=1./255,\n",
        "    shear_range = 0.3,\n",
        "    zoom_range = 0.3,\n",
        "    horizontal_flip = True,\n",
        ")\n",
        "validation_datagen = image.ImageDataGenerator(\n",
        "    rescale = 1./255\n",
        ")"
      ],
      "metadata": {
        "id": "9R7Z2EqWae93"
      },
      "execution_count": null,
      "outputs": []
    },
    {
      "cell_type": "code",
      "source": [
        "from google.colab import drive\n",
        "drive.mount('/content/drive')"
      ],
      "metadata": {
        "colab": {
          "base_uri": "https://localhost:8080/"
        },
        "id": "fXg9kezyafBJ",
        "outputId": "74cb7e45-4841-4777-9fe8-3ed5f896ed92"
      },
      "execution_count": null,
      "outputs": [
        {
          "output_type": "stream",
          "name": "stdout",
          "text": [
            "Drive already mounted at /content/drive; to attempt to forcibly remount, call drive.mount(\"/content/drive\", force_remount=True).\n"
          ]
        }
      ]
    },
    {
      "cell_type": "code",
      "source": [
        "train = train_datagen.flow_from_directory(\n",
        "    '/content/drive/MyDrive/Brain Tumar Data set/Dataset/New folder (2)/Train',\n",
        "    target_size = (224, 224),\n",
        "    batch_size = 32,\n",
        "    class_mode = 'categorical'\n",
        ")\n",
        "\n",
        "validation = validation_datagen.flow_from_directory(\n",
        "    '/content/drive/MyDrive/Brain Tumar Data set/Dataset/New folder (2)/Validation',\n",
        "    target_size = (224, 224),\n",
        "    batch_size = 32,\n",
        "    class_mode = 'categorical'\n",
        ")\n",
        "\n",
        "test = validation_datagen.flow_from_directory(\n",
        "    '/content/drive/MyDrive/Brain Tumar Data set/Dataset/New folder (2)/Test',\n",
        "    target_size = (224, 224),\n",
        "    batch_size = 32,\n",
        "    shuffle = False,\n",
        "    class_mode = 'categorical'\n",
        ")"
      ],
      "metadata": {
        "colab": {
          "base_uri": "https://localhost:8080/"
        },
        "id": "_O702V1pafE1",
        "outputId": "d670f674-c5ce-41d6-f197-c594ba2ae9d6"
      },
      "execution_count": null,
      "outputs": [
        {
          "output_type": "stream",
          "name": "stdout",
          "text": [
            "Found 2180 images belonging to 3 classes.\n",
            "Found 306 images belonging to 3 classes.\n",
            "Found 629 images belonging to 3 classes.\n"
          ]
        }
      ]
    },
    {
      "cell_type": "code",
      "source": [
        "VGG16 = tf.keras.applications.VGG16(\n",
        "    include_top=False, \n",
        "    weights = 'imagenet', \n",
        "    input_shape=(224,224,3),\n",
        "    )"
      ],
      "metadata": {
        "id": "gA_cue0JbHnd"
      },
      "execution_count": null,
      "outputs": []
    },
    {
      "cell_type": "code",
      "source": [
        "VGG16.trainable = False"
      ],
      "metadata": {
        "id": "M6HmR87gbHqx"
      },
      "execution_count": null,
      "outputs": []
    },
    {
      "cell_type": "code",
      "source": [
        "model = tf.keras.models.Sequential([\n",
        "  VGG16,\n",
        "  tf.keras.layers.Flatten(),\n",
        "  tf.keras.layers.Dropout(0.8),\n",
        "  tf.keras.layers.Dense(units=1024, activation='relu'),\n",
        "  tf.keras.layers.Dense(units=512, activation='relu'),\n",
        "  tf.keras.layers.Dense(units=3, activation='softmax'), \n",
        "])"
      ],
      "metadata": {
        "id": "m2Ko8L-EbHtY"
      },
      "execution_count": null,
      "outputs": []
    },
    {
      "cell_type": "code",
      "source": [
        "model.compile(\n",
        "    optimizer = 'adam',\n",
        "    loss = 'categorical_crossentropy',\n",
        "    metrics = ['accuracy']\n",
        ")\n",
        "model.summary()"
      ],
      "metadata": {
        "colab": {
          "base_uri": "https://localhost:8080/"
        },
        "id": "uC82l7vHafHq",
        "outputId": "4b014f65-8080-46ec-b41f-d93cc5c7f59e"
      },
      "execution_count": null,
      "outputs": [
        {
          "output_type": "stream",
          "name": "stdout",
          "text": [
            "Model: \"sequential_1\"\n",
            "_________________________________________________________________\n",
            " Layer (type)                Output Shape              Param #   \n",
            "=================================================================\n",
            " vgg16 (Functional)          (None, 7, 7, 512)         14714688  \n",
            "                                                                 \n",
            " flatten_1 (Flatten)         (None, 25088)             0         \n",
            "                                                                 \n",
            " dropout_1 (Dropout)         (None, 25088)             0         \n",
            "                                                                 \n",
            " dense_3 (Dense)             (None, 1024)              25691136  \n",
            "                                                                 \n",
            " dense_4 (Dense)             (None, 512)               524800    \n",
            "                                                                 \n",
            " dense_5 (Dense)             (None, 3)                 1539      \n",
            "                                                                 \n",
            "=================================================================\n",
            "Total params: 40,932,163\n",
            "Trainable params: 26,217,475\n",
            "Non-trainable params: 14,714,688\n",
            "_________________________________________________________________\n"
          ]
        }
      ]
    },
    {
      "cell_type": "code",
      "source": [
        "history = model.fit(\n",
        "    x = train, \n",
        "    validation_data = validation,\n",
        "    epochs = 20\n",
        ")"
      ],
      "metadata": {
        "colab": {
          "base_uri": "https://localhost:8080/"
        },
        "id": "IlqMOaLOokHf",
        "outputId": "2fa6d7a4-77f4-4dae-ddc6-7b9d727be398"
      },
      "execution_count": null,
      "outputs": [
        {
          "output_type": "stream",
          "name": "stdout",
          "text": [
            "Epoch 1/20\n",
            "69/69 [==============================] - 1405s 20s/step - loss: 1.3138 - accuracy: 0.5991 - val_loss: 0.7180 - val_accuracy: 0.6471\n",
            "Epoch 2/20\n",
            "69/69 [==============================] - 1355s 20s/step - loss: 0.6346 - accuracy: 0.7225 - val_loss: 0.7495 - val_accuracy: 0.6438\n",
            "Epoch 3/20\n",
            "69/69 [==============================] - 1352s 20s/step - loss: 0.5711 - accuracy: 0.7573 - val_loss: 0.9296 - val_accuracy: 0.5523\n",
            "Epoch 4/20\n",
            "69/69 [==============================] - 1352s 20s/step - loss: 0.4951 - accuracy: 0.7936 - val_loss: 0.7767 - val_accuracy: 0.6503\n",
            "Epoch 5/20\n",
            "69/69 [==============================] - 1383s 20s/step - loss: 0.4708 - accuracy: 0.8083 - val_loss: 0.8832 - val_accuracy: 0.5915\n",
            "Epoch 6/20\n",
            "69/69 [==============================] - 1344s 19s/step - loss: 0.4528 - accuracy: 0.8165 - val_loss: 1.1973 - val_accuracy: 0.5163\n",
            "Epoch 7/20\n",
            "69/69 [==============================] - 1336s 19s/step - loss: 0.4405 - accuracy: 0.8128 - val_loss: 0.9490 - val_accuracy: 0.5752\n",
            "Epoch 8/20\n",
            "69/69 [==============================] - 1334s 19s/step - loss: 0.4451 - accuracy: 0.8188 - val_loss: 0.9838 - val_accuracy: 0.5654\n",
            "Epoch 9/20\n",
            "69/69 [==============================] - 1395s 20s/step - loss: 0.3830 - accuracy: 0.8422 - val_loss: 0.8739 - val_accuracy: 0.6209\n",
            "Epoch 10/20\n",
            "69/69 [==============================] - 1389s 20s/step - loss: 0.4076 - accuracy: 0.8454 - val_loss: 0.9708 - val_accuracy: 0.6046\n",
            "Epoch 11/20\n",
            "69/69 [==============================] - 1385s 20s/step - loss: 0.3695 - accuracy: 0.8550 - val_loss: 0.9990 - val_accuracy: 0.5719\n",
            "Epoch 12/20\n",
            "69/69 [==============================] - 1378s 20s/step - loss: 0.3993 - accuracy: 0.8450 - val_loss: 0.8340 - val_accuracy: 0.6536\n",
            "Epoch 13/20\n",
            "69/69 [==============================] - 1385s 20s/step - loss: 0.3802 - accuracy: 0.8500 - val_loss: 1.1025 - val_accuracy: 0.5719\n",
            "Epoch 14/20\n",
            "69/69 [==============================] - 1347s 20s/step - loss: 0.3819 - accuracy: 0.8472 - val_loss: 1.0137 - val_accuracy: 0.6111\n",
            "Epoch 15/20\n",
            "69/69 [==============================] - 1389s 20s/step - loss: 0.3937 - accuracy: 0.8459 - val_loss: 0.8941 - val_accuracy: 0.5980\n",
            "Epoch 16/20\n",
            "69/69 [==============================] - 1382s 20s/step - loss: 0.3617 - accuracy: 0.8509 - val_loss: 0.9094 - val_accuracy: 0.5882\n",
            "Epoch 17/20\n",
            "69/69 [==============================] - 1347s 20s/step - loss: 0.3584 - accuracy: 0.8596 - val_loss: 0.9798 - val_accuracy: 0.5490\n",
            "Epoch 18/20\n",
            "69/69 [==============================] - 1398s 20s/step - loss: 0.3414 - accuracy: 0.8606 - val_loss: 1.0391 - val_accuracy: 0.5621\n",
            "Epoch 19/20\n",
            "69/69 [==============================] - 1444s 21s/step - loss: 0.3576 - accuracy: 0.8500 - val_loss: 1.4480 - val_accuracy: 0.5196\n",
            "Epoch 20/20\n",
            "69/69 [==============================] - 1472s 21s/step - loss: 0.3505 - accuracy: 0.8578 - val_loss: 0.9148 - val_accuracy: 0.6144\n"
          ]
        }
      ]
    },
    {
      "cell_type": "code",
      "source": [
        "# Evaluate the loss and accuracy\n",
        "loss, accuracy = model.evaluate(test)\n",
        "\n",
        "# Print the accuracy\n",
        "print(\"Accuracy: \" + str(accuracy))\n",
        "# Print the loss\n",
        "print(\"Loss: \" + str(loss))"
      ],
      "metadata": {
        "id": "tXVQhRZpcO5L",
        "colab": {
          "base_uri": "https://localhost:8080/"
        },
        "outputId": "8f901087-360e-4e8e-e598-e662010574a8"
      },
      "execution_count": null,
      "outputs": [
        {
          "output_type": "stream",
          "name": "stdout",
          "text": [
            "20/20 [==============================] - 341s 17s/step - loss: 0.4897 - accuracy: 0.8108\n",
            "Accuracy: 0.8108108043670654\n",
            "Loss: 0.48971304297447205\n"
          ]
        }
      ]
    },
    {
      "cell_type": "code",
      "source": [
        "test.class_indices"
      ],
      "metadata": {
        "id": "t_G1qGp0cSf7",
        "colab": {
          "base_uri": "https://localhost:8080/"
        },
        "outputId": "0d56a308-ae28-4ddd-aecf-e5ca429cfbad"
      },
      "execution_count": null,
      "outputs": [
        {
          "output_type": "execute_result",
          "data": {
            "text/plain": [
              "{'glioma': 0, 'meningioma': 1, 'pituitary_tumor': 2}"
            ]
          },
          "metadata": {},
          "execution_count": 24
        }
      ]
    },
    {
      "cell_type": "code",
      "source": [
        "import numpy as np\n",
        "from sklearn import metrics\n",
        "\n",
        "predictions = model.predict(test)\n",
        "predicted_classes = np.argmax(predictions, axis = 1)\n",
        "true_classes = test.classes\n",
        "class_labels = ['glioma', 'meningioma', 'pituitary_tumor']\n",
        "report = metrics.classification_report(true_classes, predicted_classes, target_names = class_labels)\n",
        "print(report)"
      ],
      "metadata": {
        "id": "NCy9LV_ocSiM",
        "colab": {
          "base_uri": "https://localhost:8080/"
        },
        "outputId": "5255c5b9-08ad-40b3-ce94-8ec5155e4dfc"
      },
      "execution_count": null,
      "outputs": [
        {
          "output_type": "stream",
          "name": "stdout",
          "text": [
            "20/20 [==============================] - 335s 17s/step\n",
            "                 precision    recall  f1-score   support\n",
            "\n",
            "         glioma       0.92      0.80      0.85       291\n",
            "     meningioma       0.63      0.65      0.64       152\n",
            "pituitary_tumor       0.81      0.96      0.88       186\n",
            "\n",
            "       accuracy                           0.81       629\n",
            "      macro avg       0.79      0.80      0.79       629\n",
            "   weighted avg       0.82      0.81      0.81       629\n",
            "\n"
          ]
        }
      ]
    },
    {
      "cell_type": "code",
      "source": [
        "import seaborn as sn\n",
        "import pandas as pd\n",
        "import matplotlib.pyplot as plt\n",
        "\n",
        "cm = metrics.confusion_matrix(true_classes, predicted_classes)\n",
        "df_cm = pd.DataFrame(cm, index = [i for i in ['glioma', 'meningioma', 'pituitary_tumor']],\n",
        "                  columns = [i for i in ['glioma', 'meningioma', 'pituitary_tumor']])\n",
        "plt.figure(figsize = (10,7))\n",
        "sn.heatmap(df_cm, annot=True, fmt='d')"
      ],
      "metadata": {
        "id": "aZnek_yScSk9",
        "colab": {
          "base_uri": "https://localhost:8080/",
          "height": 446
        },
        "outputId": "140e7bd2-0c65-4d0c-bed5-dd8a7a366dca"
      },
      "execution_count": null,
      "outputs": [
        {
          "output_type": "execute_result",
          "data": {
            "text/plain": [
              "<matplotlib.axes._subplots.AxesSubplot at 0x7f3fc8815b50>"
            ]
          },
          "metadata": {},
          "execution_count": 26
        },
        {
          "output_type": "display_data",
          "data": {
            "text/plain": [
              "<Figure size 720x504 with 2 Axes>"
            ],
            "image/png": "[encoded data removed]"
          },
          "metadata": {
            "needs_background": "light"
          }
        }
      ]
    },
    {
      "cell_type": "code",
      "source": [
        "plt.plot(history.history['accuracy'])\n",
        "plt.plot(history.history['val_accuracy'])\n",
        "plt.title(\"model accuacy\")\n",
        "plt.ylabel('accuracy')\n",
        "plt.xlabel('epoch')\n",
        "plt.legend(['train accuracy', 'validation accuracy'], loc='lower right')\n",
        "plt.show()\n",
        "\n",
        "plt.plot(history.history['loss'])\n",
        "plt.plot(history.history['val_loss'])\n",
        "plt.title('model loss')\n",
        "plt.ylabel('loss')\n",
        "plt.xlabel('epoch')\n",
        "plt.legend(['train loss', 'validation loss'], loc='upper right')\n",
        "plt.show()"
      ],
      "metadata": {
        "id": "RaElTwXMcO8I",
        "colab": {
          "base_uri": "https://localhost:8080/",
          "height": 573
        },
        "outputId": "dae63eef-db94-4f52-f62b-9c2a1a7ef698"
      },
      "execution_count": null,
      "outputs": [
        {
          "output_type": "display_data",
          "data": {
            "text/plain": [
              "<Figure size 432x288 with 1 Axes>"
            ],
            "image/png": "[encoded data removed]"
          },
          "metadata": {
            "needs_background": "light"
          }
        },
        {
          "output_type": "display_data",
          "data": {
            "text/plain": [
              "<Figure size 432x288 with 1 Axes>"
            ],
            "image/png": "[encoded data removed]"
          },
          "metadata": {
            "needs_background": "light"
          }
        }
      ]
    },
    {
      "cell_type": "code",
      "source": [],
      "metadata": {
        "id": "T-Uz_DKtcO_L"
      },
      "execution_count": null,
      "outputs": []
    },
    {
      "cell_type": "code",
      "source": [],
      "metadata": {
        "id": "IQqN3HmXcPC4"
      },
      "execution_count": null,
      "outputs": []
    }
  ]
}