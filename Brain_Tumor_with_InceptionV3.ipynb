{
  "nbformat": 4,
  "nbformat_minor": 0,
  "metadata": {
    "colab": {
      "provenance": []
    },
    "kernelspec": {
      "name": "python3",
      "display_name": "Python 3"
    },
    "language_info": {
      "name": "python"
    }
  },
  "cells": [
    {
      "cell_type": "code",
      "execution_count": 1,
      "metadata": {
        "id": "AhKLsaJRE2BD"
      },
      "outputs": [],
      "source": [
        "import tensorflow as tf\n",
        "import numpy as np\n",
        "import matplotlib.pyplot as plt\n",
        "\n",
        "import tensorflow_hub as hub\n",
        "import tensorflow_datasets as tfds\n",
        "\n",
        "from tensorflow.keras import layers\n",
        "from tensorflow.keras.preprocessing.image import ImageDataGenerator"
      ]
    },
    {
      "cell_type": "code",
      "source": [
        "import logging\n",
        "logger = tf.get_logger()\n",
        "logger.setLevel(logging.ERROR)"
      ],
      "metadata": {
        "id": "-KflNAiSFASu"
      },
      "execution_count": 2,
      "outputs": []
    },
    {
      "cell_type": "code",
      "source": [
        "import keras\n",
        "from keras.applications.inception_v3 import InceptionV3\n",
        "\n",
        "from sklearn.metrics import confusion_matrix\n",
        "from keras.layers.core import Dense, Activation\n",
        "from keras.metrics import categorical_crossentropy\n",
        "from keras.metrics import binary_crossentropy\n",
        "from sklearn.model_selection import train_test_split\n",
        "from keras.preprocessing.image import ImageDataGenerator\n",
        "from keras.applications.mobilenet import preprocess_input\n",
        "from tensorflow.keras.preprocessing import image_dataset_from_directory\n",
        "import tensorflow as tf\n",
        "from keras.preprocessing import image"
      ],
      "metadata": {
        "id": "YShTU4hbFAw6"
      },
      "execution_count": 3,
      "outputs": []
    },
    {
      "cell_type": "code",
      "source": [
        "train_datagen = image.ImageDataGenerator(\n",
        "    rescale=1./255,\n",
        "    shear_range = 0.3,\n",
        "    zoom_range = 0.3,\n",
        "    horizontal_flip = True,\n",
        ")\n",
        "validation_datagen = image.ImageDataGenerator(\n",
        "    rescale = 1./255\n",
        ")"
      ],
      "metadata": {
        "id": "OP457dILFA0F"
      },
      "execution_count": 4,
      "outputs": []
    },
    {
      "cell_type": "code",
      "source": [
        "from google.colab import drive\n",
        "drive.mount('/content/drive')"
      ],
      "metadata": {
        "colab": {
          "base_uri": "https://localhost:8080/"
        },
        "id": "AQtEGdsGFK4O",
        "outputId": "bccb01be-e1a1-46b8-9973-54639624bd10"
      },
      "execution_count": 5,
      "outputs": [
        {
          "output_type": "stream",
          "name": "stdout",
          "text": [
            "Mounted at /content/drive\n"
          ]
        }
      ]
    },
    {
      "cell_type": "code",
      "source": [
        "train = train_datagen.flow_from_directory(\n",
        "    '/content/drive/MyDrive/Brain Tumar Data set/Dataset/New folder (2)/Train',\n",
        "    target_size = (224, 224),\n",
        "    batch_size = 32,\n",
        "    class_mode = 'categorical'\n",
        ")\n",
        "\n",
        "validation = validation_datagen.flow_from_directory(\n",
        "    '/content/drive/MyDrive/Brain Tumar Data set/Dataset/New folder (2)/Validation',\n",
        "    target_size = (224, 224),\n",
        "    batch_size = 32,\n",
        "    class_mode = 'categorical'\n",
        ")\n",
        "\n",
        "test = validation_datagen.flow_from_directory(\n",
        "    '/content/drive/MyDrive/Brain Tumar Data set/Dataset/New folder (2)/Test',\n",
        "    target_size = (224, 224),\n",
        "    batch_size = 32,\n",
        "    shuffle = False,\n",
        "    class_mode = 'categorical'\n",
        ")"
      ],
      "metadata": {
        "colab": {
          "base_uri": "https://localhost:8080/"
        },
        "id": "rkteJu7dFLQN",
        "outputId": "eb5f6fd4-4d5e-4ff3-a8c3-f38c4f49d74c"
      },
      "execution_count": 6,
      "outputs": [
        {
          "output_type": "stream",
          "name": "stdout",
          "text": [
            "Found 2180 images belonging to 3 classes.\n",
            "Found 306 images belonging to 3 classes.\n",
            "Found 629 images belonging to 3 classes.\n"
          ]
        }
      ]
    },
    {
      "cell_type": "code",
      "source": [
        "InceptionV3 = tf.keras.applications.InceptionV3(\n",
        "    include_top=False, \n",
        "    weights = 'imagenet', \n",
        "    input_shape=(224,224,3),\n",
        "    )"
      ],
      "metadata": {
        "colab": {
          "base_uri": "https://localhost:8080/"
        },
        "id": "3iPTPQz4FLTX",
        "outputId": "f604c1fc-ea3e-430b-9be8-f636479dd6c5"
      },
      "execution_count": 7,
      "outputs": [
        {
          "output_type": "stream",
          "name": "stdout",
          "text": [
            "Downloading data from https://storage.googleapis.com/tensorflow/keras-applications/inception_v3/inception_v3_weights_tf_dim_ordering_tf_kernels_notop.h5\n",
            "87910968/87910968 [==============================] - 1s 0us/step\n"
          ]
        }
      ]
    },
    {
      "cell_type": "code",
      "source": [
        "InceptionV3.trainable = False"
      ],
      "metadata": {
        "id": "kXc9xqHjFLWC"
      },
      "execution_count": 8,
      "outputs": []
    },
    {
      "cell_type": "code",
      "source": [
        "model = tf.keras.models.Sequential([\n",
        "  InceptionV3,\n",
        "  tf.keras.layers.Flatten(),\n",
        "  tf.keras.layers.Dropout(0.8),\n",
        "  tf.keras.layers.Dense(units=1024, activation='relu'),\n",
        "  tf.keras.layers.Dense(units=512, activation='relu'),\n",
        "  tf.keras.layers.Dense(units=3, activation='softmax'), \n",
        "])"
      ],
      "metadata": {
        "id": "45OrvQjIFqkU"
      },
      "execution_count": 9,
      "outputs": []
    },
    {
      "cell_type": "code",
      "source": [
        "model.compile(\n",
        "    optimizer = 'adam',\n",
        "    loss = 'categorical_crossentropy',\n",
        "    metrics = ['accuracy']\n",
        ")\n",
        "model.summary()"
      ],
      "metadata": {
        "colab": {
          "base_uri": "https://localhost:8080/"
        },
        "id": "NQ0fsrg2Fvm0",
        "outputId": "7095f768-1964-4308-973c-636f59aeae76"
      },
      "execution_count": 10,
      "outputs": [
        {
          "output_type": "stream",
          "name": "stdout",
          "text": [
            "Model: \"sequential\"\n",
            "_________________________________________________________________\n",
            " Layer (type)                Output Shape              Param #   \n",
            "=================================================================\n",
            " inception_v3 (Functional)   (None, 5, 5, 2048)        21802784  \n",
            "                                                                 \n",
            " flatten (Flatten)           (None, 51200)             0         \n",
            "                                                                 \n",
            " dropout (Dropout)           (None, 51200)             0         \n",
            "                                                                 \n",
            " dense (Dense)               (None, 1024)              52429824  \n",
            "                                                                 \n",
            " dense_1 (Dense)             (None, 512)               524800    \n",
            "                                                                 \n",
            " dense_2 (Dense)             (None, 3)                 1539      \n",
            "                                                                 \n",
            "=================================================================\n",
            "Total params: 74,758,947\n",
            "Trainable params: 52,956,163\n",
            "Non-trainable params: 21,802,784\n",
            "_________________________________________________________________\n"
          ]
        }
      ]
    },
    {
      "cell_type": "code",
      "source": [
        "history = model.fit(\n",
        "    x = train, \n",
        "    validation_data = validation,\n",
        "    epochs = 10\n",
        ")"
      ],
      "metadata": {
        "colab": {
          "base_uri": "https://localhost:8080/"
        },
        "id": "U09AW6P3FyJn",
        "outputId": "a1499744-8f4d-423b-a94b-7fc6cae612e4"
      },
      "execution_count": 11,
      "outputs": [
        {
          "output_type": "stream",
          "name": "stdout",
          "text": [
            "Epoch 1/10\n",
            "69/69 [==============================] - 556s 8s/step - loss: 3.6644 - accuracy: 0.6647 - val_loss: 1.7499 - val_accuracy: 0.4771\n",
            "Epoch 2/10\n",
            "69/69 [==============================] - 333s 5s/step - loss: 0.6340 - accuracy: 0.7794 - val_loss: 1.3590 - val_accuracy: 0.5163\n",
            "Epoch 3/10\n",
            "69/69 [==============================] - 341s 5s/step - loss: 0.4064 - accuracy: 0.8399 - val_loss: 1.2139 - val_accuracy: 0.5163\n",
            "Epoch 4/10\n",
            "69/69 [==============================] - 333s 5s/step - loss: 0.4043 - accuracy: 0.8440 - val_loss: 0.9393 - val_accuracy: 0.5915\n",
            "Epoch 5/10\n",
            "69/69 [==============================] - 342s 5s/step - loss: 0.3862 - accuracy: 0.8528 - val_loss: 1.4398 - val_accuracy: 0.4837\n",
            "Epoch 6/10\n",
            "69/69 [==============================] - 356s 5s/step - loss: 0.3244 - accuracy: 0.8798 - val_loss: 1.1977 - val_accuracy: 0.5131\n",
            "Epoch 7/10\n",
            "69/69 [==============================] - 358s 5s/step - loss: 0.3242 - accuracy: 0.8665 - val_loss: 1.2535 - val_accuracy: 0.5556\n",
            "Epoch 8/10\n",
            "69/69 [==============================] - 359s 5s/step - loss: 0.3037 - accuracy: 0.8862 - val_loss: 1.1036 - val_accuracy: 0.5196\n",
            "Epoch 9/10\n",
            "69/69 [==============================] - 353s 5s/step - loss: 0.3085 - accuracy: 0.8780 - val_loss: 1.3123 - val_accuracy: 0.5261\n",
            "Epoch 10/10\n",
            "69/69 [==============================] - 397s 6s/step - loss: 0.3451 - accuracy: 0.8651 - val_loss: 1.5360 - val_accuracy: 0.5098\n"
          ]
        }
      ]
    },
    {
      "cell_type": "code",
      "source": [
        "# Evaluate the loss and accuracy\n",
        "loss, accuracy = model.evaluate(test)\n",
        "\n",
        "# Print the accuracy\n",
        "print(\"Accuracy: \" + str(accuracy))\n",
        "# Print the loss\n",
        "print(\"Loss: \" + str(loss))"
      ],
      "metadata": {
        "colab": {
          "base_uri": "https://localhost:8080/"
        },
        "id": "ceUpf0FIF4y5",
        "outputId": "4d4c7bf7-d27e-4199-8be0-1f45896fe84a"
      },
      "execution_count": 12,
      "outputs": [
        {
          "output_type": "stream",
          "name": "stdout",
          "text": [
            "20/20 [==============================] - 154s 8s/step - loss: 0.7967 - accuracy: 0.7154\n",
            "Accuracy: 0.7154213190078735\n",
            "Loss: 0.7966718673706055\n"
          ]
        }
      ]
    },
    {
      "cell_type": "code",
      "source": [
        "test.class_indices"
      ],
      "metadata": {
        "colab": {
          "base_uri": "https://localhost:8080/"
        },
        "id": "K9sEZyqLF5-4",
        "outputId": "90de95c8-da49-4e7e-ac2b-bae3f100e8ab"
      },
      "execution_count": 13,
      "outputs": [
        {
          "output_type": "execute_result",
          "data": {
            "text/plain": [
              "{'glioma': 0, 'meningioma': 1, 'pituitary_tumor': 2}"
            ]
          },
          "metadata": {},
          "execution_count": 13
        }
      ]
    },
    {
      "cell_type": "code",
      "source": [
        "import numpy as np\n",
        "from sklearn import metrics\n",
        "\n",
        "predictions = model.predict(test)\n",
        "predicted_classes = np.argmax(predictions, axis = 1)\n",
        "true_classes = test.classes\n",
        "class_labels = ['glioma', 'glioma', 'pituitary_tumor']\n",
        "report = metrics.classification_report(true_classes, predicted_classes, target_names = class_labels)\n",
        "print(report)"
      ],
      "metadata": {
        "colab": {
          "base_uri": "https://localhost:8080/"
        },
        "id": "j56XnSkVF6B7",
        "outputId": "2ba9d66d-a5a3-4d5e-a7b0-8b994070ec64"
      },
      "execution_count": 14,
      "outputs": [
        {
          "output_type": "stream",
          "name": "stdout",
          "text": [
            "20/20 [==============================] - 83s 4s/step\n",
            "                 precision    recall  f1-score   support\n",
            "\n",
            "         glioma       0.99      0.54      0.70       291\n",
            "         glioma       0.48      0.71      0.57       152\n",
            "pituitary_tumor       0.76      0.99      0.86       186\n",
            "\n",
            "       accuracy                           0.72       629\n",
            "      macro avg       0.74      0.75      0.71       629\n",
            "   weighted avg       0.80      0.72      0.72       629\n",
            "\n"
          ]
        }
      ]
    },
    {
      "cell_type": "code",
      "source": [
        "import seaborn as sn\n",
        "import pandas as pd\n",
        "import matplotlib.pyplot as plt\n",
        "\n",
        "cm = metrics.confusion_matrix(true_classes, predicted_classes)\n",
        "df_cm = pd.DataFrame(cm, index = [i for i in ['glioma', 'glioma', 'pituitary_tumor']],\n",
        "                  columns = [i for i in ['glioma', 'glioma', 'pituitary_tumor']])\n",
        "plt.figure(figsize = (10,7))\n",
        "sn.heatmap(df_cm, annot=True, fmt='d')"
      ],
      "metadata": {
        "colab": {
          "base_uri": "https://localhost:8080/",
          "height": 446
        },
        "id": "m7mBOyumF6FI",
        "outputId": "30ab5dc4-d6e0-4260-d241-c5c83e5bbfb9"
      },
      "execution_count": 16,
      "outputs": [
        {
          "output_type": "execute_result",
          "data": {
            "text/plain": [
              "<matplotlib.axes._subplots.AxesSubplot at 0x7f74ca773e50>"
            ]
          },
          "metadata": {},
          "execution_count": 16
        },
        {
          "output_type": "display_data",
          "data": {
            "text/plain": [
              "<Figure size 720x504 with 2 Axes>"
            ],
            "image/png": "[encoded data removed]"
          },
          "metadata": {
            "needs_background": "light"
          }
        }
      ]
    },
    {
      "cell_type": "code",
      "source": [
        "plt.plot(history.history['accuracy'])\n",
        "plt.plot(history.history['val_accuracy'])\n",
        "plt.title(\"model accuacy\")\n",
        "plt.ylabel('accuracy')\n",
        "plt.xlabel('epoch')\n",
        "plt.legend(['train accuracy', 'validation accuracy'], loc='lower right')\n",
        "plt.show()\n",
        "\n",
        "plt.plot(history.history['loss'])\n",
        "plt.plot(history.history['val_loss'])\n",
        "plt.title('model loss')\n",
        "plt.ylabel('loss')\n",
        "plt.xlabel('epoch')\n",
        "plt.legend(['train loss', 'validation loss'], loc='upper right')\n",
        "plt.show()"
      ],
      "metadata": {
        "colab": {
          "base_uri": "https://localhost:8080/",
          "height": 573
        },
        "id": "ilaIn-A8GCTC",
        "outputId": "4b551bcf-132c-457d-eeb3-8d7b903ec149"
      },
      "execution_count": 17,
      "outputs": [
        {
          "output_type": "display_data",
          "data": {
            "text/plain": [
              "<Figure size 432x288 with 1 Axes>"
            ],
            "image/png": "[encoded data removed]"
          },
          "metadata": {
            "needs_background": "light"
          }
        },
        {
          "output_type": "display_data",
          "data": {
            "text/plain": [
              "<Figure size 432x288 with 1 Axes>"
            ],
            "image/png": "[encoded data removed]"
          },
          "metadata": {
            "needs_background": "light"
          }
        }
      ]
    },
    {
      "cell_type": "code",
      "source": [],
      "metadata": {
        "id": "VR_Ear7bGCVv"
      },
      "execution_count": null,
      "outputs": []
    },
    {
      "cell_type": "code",
      "source": [],
      "metadata": {
        "id": "DAQvu0_9GCYY"
      },
      "execution_count": null,
      "outputs": []
    }
  ]
}